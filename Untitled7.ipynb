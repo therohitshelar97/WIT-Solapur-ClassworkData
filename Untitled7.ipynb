{
 "cells": [
  {
   "cell_type": "code",
   "execution_count": 42,
   "id": "e6459e6b-3f23-49a8-8090-9b36a9c866b0",
   "metadata": {},
   "outputs": [
    {
     "name": "stdout",
     "output_type": "stream",
     "text": [
      "((3, 'I-Dont-know', 22, ''),)\n",
      "Data inserted successfully....\n"
     ]
    }
   ],
   "source": [
    "import pymysql\n",
    "\n",
    "conn = pymysql.connect(\n",
    "    host='localhost',\n",
    "    user='root',\n",
    "    password='Rohit@123',\n",
    "    database='pywit'\n",
    ")\n",
    "cur = conn.cursor()\n",
    "\n",
    "def createTable(tname):\n",
    "    try:\n",
    "        t = f'''create table {tname}(id int primary key auto_increment,\n",
    "        name varchar(20),dob date,location varchar(20))'''\n",
    "        cur.execute(t)\n",
    "        print(f\"{tname} table created successfully...\")\n",
    "    except:\n",
    "        print(f' with the name {tname} tables already exist...try with different name...')\n",
    "# createTable('xyz1')\n",
    "def Rename(oldname,newname):\n",
    "    try:\n",
    "        query = f'''alter table {oldname} rename to {newname}'''\n",
    "        cur.execute(query)\n",
    "        print(f'You have successfully rename the table from {oldname} to {newname}')\n",
    "    except:\n",
    "        print(\"kindly check oldname name newname\")\n",
    "# Rename('xyzdata','Data')\n",
    "\n",
    "def AddColumn(tname,cname):\n",
    "    try:\n",
    "        query = f'alter table {tname} add column {cname}'\n",
    "        cur.execute(query)\n",
    "        print(\"New column added succesfully....\")\n",
    "    except:\n",
    "        print(f\"{cname} colunm name already exist... \")\n",
    "# AddColumn('data','city varchar(20) not null')\n",
    "\n",
    "def ColumnRename(tname,coldname,cnewname):\n",
    "    try:\n",
    "        query = f'alter table {tname} change {coldname} {cnewname}'\n",
    "        cur.execute(query)\n",
    "        print(f'colum rename successfully from {coldname} to {cnewname}')\n",
    "    except Exception as e:\n",
    "        print(e)\n",
    "        \n",
    "# ColumnRename('data','age','howold int')\n",
    "\n",
    "def ModifyColumn(tname,column,dtype):\n",
    "    try:\n",
    "        query = f'alter table {tname} modify column {column} {dtype}'\n",
    "        cur.execute(query)\n",
    "        print('column modify successfully...')\n",
    "    except:\n",
    "        print()\n",
    "\n",
    "def TableDelete(tname):\n",
    "    try:\n",
    "        query = f'drop table {tname}'\n",
    "        cur.execute(query)\n",
    "        print(f\"Table {tname} deleted successfully...\")\n",
    "    except:\n",
    "        print(\"Kindly check the syntax and table name\")\n",
    "# TableDelete('xyzdata')\n",
    "\n",
    "def Truncate(tname):\n",
    "    try:\n",
    "        query = f'truncate table {tname}'\n",
    "        cur.execute(tname)\n",
    "        print(f'from table {tname} all values deleted...')\n",
    "    except Exception as e:\n",
    "        print(\"something went wrong\")\n",
    "\n",
    "def DataInsert(tnmae,name,dob,location):\n",
    "    try:\n",
    "        query = f'insert into {tname}(name,dob,location) values(%s,%s,%s)'\n",
    "        value = (name,dob,location)\n",
    "        cur.exceute(query,value)\n",
    "        conn.commit()\n",
    "        print(\"Data inserted successfully....\")\n",
    "    except:\n",
    "        print(\"Error in DataInsert\")\n",
    "\n",
    "def DeleteData(tname,id1):\n",
    "    try:\n",
    "        query = f'delete from {tname} where id = {id1}'\n",
    "        cur.execute(query)\n",
    "        conn.commit()\n",
    "    except:\n",
    "        print(\"Error in DeleteData function..\")\n",
    "\n",
    "def DeleteByName(tname,name):\n",
    "    try:\n",
    "        query = f'delete from {tname} where name = %s'\n",
    "        cur.execute(query,(name))\n",
    "        conn.commit()\n",
    "    except:\n",
    "        print(\"Error in DeleteByName function..\")\n",
    "\n",
    "def Update(tname,id1):\n",
    "    cur.execute(f\"select * from {tname} where id = {id1}\")\n",
    "    a = cur.fetchone()\n",
    "    def upin(name,age,city):\n",
    "        cur1 = conn.cursor()\n",
    "        print(name,age,city)\n",
    "        cur1.execute(f'update {tname} set name=%s,howold=%s,city=%s where id=%s',(name,age,city,id1))\n",
    "        conn.commit()\n",
    "    upin(name='Rohit',age=a[2],city=a[3])\n",
    "        \n",
    "# Update('data',5)\n",
    "\n",
    "def Filter(tname,start,end):\n",
    "    try:\n",
    "        query = f'select * from {tname} where name like \"{start}%{end}\"'\n",
    "        cur.execute(query)\n",
    "        a = cur.fetchall()\n",
    "        print(a)\n",
    "    except:\n",
    "        print(\"Error in filter function...\")\n",
    "\n",
    "Filter('data','I','w')\n",
    "\n",
    "def DataInsertMany(tname,*data):\n",
    "    # try:\n",
    "    query = f'insert into {tname}(name,dob,location) values(%s,%s,%s)'\n",
    "    value = data\n",
    "    cur.executemany(query,value)\n",
    "    conn.commit()\n",
    "   \n",
    "    print(\"Data inserted successfully....\")\n",
    "    # except:\n",
    "    #     print(\"Error in DataInsert\")\n",
    "\n",
    "DataInsertMany('xyz',('sssss','1998-12-1','Solapur'),('ffffff','1995-12-1','Solapur'))\n",
    "    "
   ]
  },
  {
   "cell_type": "code",
   "execution_count": 30,
   "id": "250ea988-6fac-484f-ae6f-e4638f6adf27",
   "metadata": {},
   "outputs": [
    {
     "name": "stdout",
     "output_type": "stream",
     "text": [
      "[1, 2, 3, 4, 4, (1, 2, 3, 4)]\n"
     ]
    }
   ],
   "source": [
    "print(list((1,2,3,4,4,(1,2,3,4))))"
   ]
  },
  {
   "cell_type": "code",
   "execution_count": 52,
   "id": "ce294a44-5c03-4f76-ab31-622333d13639",
   "metadata": {},
   "outputs": [
    {
     "name": "stdin",
     "output_type": "stream",
     "text": [
      "set table name :  welcome\n",
      "set column name data type and contraints or \"break\" :  id int primary key\n",
      "set column name data type and contraints or \"break\" :  name varchar(20)\n",
      "set column name data type and contraints or \"break\" :  break\n"
     ]
    },
    {
     "name": "stdout",
     "output_type": "stream",
     "text": [
      "id int primary key,name varchar(20)\n",
      "Run successfully...\n"
     ]
    }
   ],
   "source": [
    "a=[]\n",
    "tname = input(\"set table name : \")\n",
    "while True:\n",
    "    column = input('set column name data type and contraints or \"break\" : ')\n",
    "    if column == 'break':\n",
    "        break\n",
    "    a.append(column)\n",
    "a1 = \",\".join(a)\n",
    "print(a1)\n",
    "query = f'create table {tname}({a1})'\n",
    "cur.execute(query)\n",
    "print(\"Run successfully...\")"
   ]
  },
  {
   "cell_type": "code",
   "execution_count": null,
   "id": "22b5da01-50e0-4ec9-a674-c3dfa053e719",
   "metadata": {},
   "outputs": [],
   "source": []
  }
 ],
 "metadata": {
  "kernelspec": {
   "display_name": "Python 3 (ipykernel)",
   "language": "python",
   "name": "python3"
  },
  "language_info": {
   "codemirror_mode": {
    "name": "ipython",
    "version": 3
   },
   "file_extension": ".py",
   "mimetype": "text/x-python",
   "name": "python",
   "nbconvert_exporter": "python",
   "pygments_lexer": "ipython3",
   "version": "3.11.0"
  }
 },
 "nbformat": 4,
 "nbformat_minor": 5
}
