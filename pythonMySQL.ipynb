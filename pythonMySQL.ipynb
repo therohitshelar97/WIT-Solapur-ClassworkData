{
 "cells": [
  {
   "cell_type": "code",
   "execution_count": 1,
   "id": "67228d98-12ad-4970-9a08-ada036ea36f8",
   "metadata": {},
   "outputs": [
    {
     "name": "stdout",
     "output_type": "stream",
     "text": [
      "Requirement already satisfied: mysql in c:\\users\\rohid\\appdata\\local\\programs\\python\\python311\\lib\\site-packages (0.0.3)\n",
      "Requirement already satisfied: mysqlclient in c:\\users\\rohid\\appdata\\local\\programs\\python\\python311\\lib\\site-packages (from mysql) (2.2.7)\n",
      "Note: you may need to restart the kernel to use updated packages.\n"
     ]
    },
    {
     "name": "stderr",
     "output_type": "stream",
     "text": [
      "\n",
      "[notice] A new release of pip is available: 24.3.1 -> 25.0.1\n",
      "[notice] To update, run: python.exe -m pip install --upgrade pip\n"
     ]
    }
   ],
   "source": [
    "pip install mysql"
   ]
  },
  {
   "cell_type": "code",
   "execution_count": 2,
   "id": "2364456a-4414-4de0-a920-8adfedc4046d",
   "metadata": {},
   "outputs": [
    {
     "name": "stdout",
     "output_type": "stream",
     "text": [
      "Collecting mysql-connector\n",
      "  Downloading mysql-connector-2.2.9.tar.gz (11.9 MB)\n",
      "     ---------------------------------------- 0.0/11.9 MB ? eta -:--:--\n",
      "     ---------------------------------------- 0.0/11.9 MB ? eta -:--:--\n",
      "     ---------------------------------------- 0.0/11.9 MB ? eta -:--:--\n",
      "     ---------------------------------------- 0.0/11.9 MB ? eta -:--:--\n",
      "      --------------------------------------- 0.3/11.9 MB ? eta -:--:--\n",
      "      --------------------------------------- 0.3/11.9 MB ? eta -:--:--\n",
      "      --------------------------------------- 0.3/11.9 MB ? eta -:--:--\n",
      "      --------------------------------------- 0.3/11.9 MB ? eta -:--:--\n",
      "      --------------------------------------- 0.3/11.9 MB ? eta -:--:--\n",
      "      --------------------------------------- 0.3/11.9 MB ? eta -:--:--\n",
      "      --------------------------------------- 0.3/11.9 MB ? eta -:--:--\n",
      "     - ------------------------------------- 0.5/11.9 MB 195.0 kB/s eta 0:00:59\n",
      "     - ------------------------------------- 0.5/11.9 MB 195.0 kB/s eta 0:00:59\n",
      "     - ------------------------------------- 0.5/11.9 MB 195.0 kB/s eta 0:00:59\n",
      "     -- ------------------------------------ 0.8/11.9 MB 268.5 kB/s eta 0:00:42\n",
      "     -- ------------------------------------ 0.8/11.9 MB 268.5 kB/s eta 0:00:42\n",
      "     -- ------------------------------------ 0.8/11.9 MB 268.5 kB/s eta 0:00:42\n",
      "     --- ----------------------------------- 1.0/11.9 MB 297.8 kB/s eta 0:00:37\n",
      "     --- ----------------------------------- 1.0/11.9 MB 297.8 kB/s eta 0:00:37\n",
      "     ---- ---------------------------------- 1.3/11.9 MB 342.4 kB/s eta 0:00:31\n",
      "     ---- ---------------------------------- 1.3/11.9 MB 342.4 kB/s eta 0:00:31\n",
      "     ----- --------------------------------- 1.6/11.9 MB 371.2 kB/s eta 0:00:28\n",
      "     ----- --------------------------------- 1.6/11.9 MB 371.2 kB/s eta 0:00:28\n",
      "     ------ -------------------------------- 1.8/11.9 MB 397.9 kB/s eta 0:00:26\n",
      "     ------ -------------------------------- 1.8/11.9 MB 397.9 kB/s eta 0:00:26\n",
      "     ------ -------------------------------- 2.1/11.9 MB 422.4 kB/s eta 0:00:24\n",
      "     ------ -------------------------------- 2.1/11.9 MB 422.4 kB/s eta 0:00:24\n",
      "     ------- ------------------------------- 2.4/11.9 MB 447.4 kB/s eta 0:00:22\n",
      "     -------- ------------------------------ 2.6/11.9 MB 469.0 kB/s eta 0:00:20\n",
      "     -------- ------------------------------ 2.6/11.9 MB 469.0 kB/s eta 0:00:20\n",
      "     --------- ----------------------------- 2.9/11.9 MB 492.0 kB/s eta 0:00:19\n",
      "     --------- ----------------------------- 2.9/11.9 MB 492.0 kB/s eta 0:00:19\n",
      "     --------- ----------------------------- 2.9/11.9 MB 492.0 kB/s eta 0:00:19\n",
      "     ---------- ---------------------------- 3.1/11.9 MB 485.7 kB/s eta 0:00:18\n",
      "     ----------- --------------------------- 3.4/11.9 MB 508.4 kB/s eta 0:00:17\n",
      "     ------------ -------------------------- 3.7/11.9 MB 528.1 kB/s eta 0:00:16\n",
      "     ------------ -------------------------- 3.7/11.9 MB 528.1 kB/s eta 0:00:16\n",
      "     ------------ -------------------------- 3.9/11.9 MB 545.0 kB/s eta 0:00:15\n",
      "     ------------- ------------------------- 4.2/11.9 MB 565.5 kB/s eta 0:00:14\n",
      "     -------------- ------------------------ 4.5/11.9 MB 583.6 kB/s eta 0:00:13\n",
      "     --------------- ----------------------- 4.7/11.9 MB 600.4 kB/s eta 0:00:12\n",
      "     ---------------- ---------------------- 5.0/11.9 MB 620.1 kB/s eta 0:00:12\n",
      "     ----------------- --------------------- 5.2/11.9 MB 631.2 kB/s eta 0:00:11\n",
      "     ------------------ -------------------- 5.5/11.9 MB 646.5 kB/s eta 0:00:10\n",
      "     ------------------ -------------------- 5.5/11.9 MB 646.5 kB/s eta 0:00:10\n",
      "     ------------------- ------------------- 6.0/11.9 MB 672.3 kB/s eta 0:00:09\n",
      "     -------------------- ------------------ 6.3/11.9 MB 690.3 kB/s eta 0:00:09\n",
      "     --------------------- ----------------- 6.6/11.9 MB 702.7 kB/s eta 0:00:08\n",
      "     --------------------- ----------------- 6.6/11.9 MB 702.7 kB/s eta 0:00:08\n",
      "     ---------------------- ---------------- 6.8/11.9 MB 699.0 kB/s eta 0:00:08\n",
      "     ---------------------- ---------------- 6.8/11.9 MB 699.0 kB/s eta 0:00:08\n",
      "     ----------------------- --------------- 7.1/11.9 MB 701.3 kB/s eta 0:00:07\n",
      "     ------------------------- ------------- 7.6/11.9 MB 734.0 kB/s eta 0:00:06\n",
      "     ------------------------- ------------- 7.9/11.9 MB 741.7 kB/s eta 0:00:06\n",
      "     ------------------------- ------------- 7.9/11.9 MB 741.7 kB/s eta 0:00:06\n",
      "     --------------------------- ----------- 8.4/11.9 MB 763.7 kB/s eta 0:00:05\n",
      "     ---------------------------- ---------- 8.7/11.9 MB 778.1 kB/s eta 0:00:05\n",
      "     ----------------------------- --------- 8.9/11.9 MB 787.6 kB/s eta 0:00:04\n",
      "     ------------------------------ -------- 9.2/11.9 MB 795.6 kB/s eta 0:00:04\n",
      "     ------------------------------- ------- 9.7/11.9 MB 821.8 kB/s eta 0:00:03\n",
      "     ------------------------------- ------ 10.0/11.9 MB 832.1 kB/s eta 0:00:03\n",
      "     -------------------------------- ----- 10.2/11.9 MB 841.1 kB/s eta 0:00:02\n",
      "     --------------------------------- ---- 10.5/11.9 MB 853.1 kB/s eta 0:00:02\n",
      "     ---------------------------------- --- 10.7/11.9 MB 861.5 kB/s eta 0:00:02\n",
      "     ----------------------------------- -- 11.0/11.9 MB 869.6 kB/s eta 0:00:01\n",
      "     ----------------------------------- -- 11.0/11.9 MB 869.6 kB/s eta 0:00:01\n",
      "     ----------------------------------- -- 11.0/11.9 MB 869.6 kB/s eta 0:00:01\n",
      "     -------------------------------------  11.8/11.9 MB 879.9 kB/s eta 0:00:01\n",
      "     -------------------------------------- 11.9/11.9 MB 866.6 kB/s eta 0:00:00\n",
      "  Installing build dependencies: started\n",
      "  Installing build dependencies: finished with status 'done'\n",
      "  Getting requirements to build wheel: started\n",
      "  Getting requirements to build wheel: finished with status 'done'\n",
      "  Preparing metadata (pyproject.toml): started\n",
      "  Preparing metadata (pyproject.toml): finished with status 'done'\n",
      "Building wheels for collected packages: mysql-connector\n",
      "  Building wheel for mysql-connector (pyproject.toml): started\n",
      "  Building wheel for mysql-connector (pyproject.toml): finished with status 'done'\n",
      "  Created wheel for mysql-connector: filename=mysql_connector-2.2.9-cp311-cp311-win_amd64.whl size=248023 sha256=6d4d61b8122fd37e5e0d7ebf56c9abf31ce0467ce55cc131f081bc05efc7920b\n",
      "  Stored in directory: c:\\users\\rohid\\appdata\\local\\pip\\cache\\wheels\\17\\cd\\ed\\2d49e9bac69cf09382e4c7cc20a2511202b48324b87db26019\n",
      "Successfully built mysql-connector\n",
      "Installing collected packages: mysql-connector\n",
      "Successfully installed mysql-connector-2.2.9\n",
      "Note: you may need to restart the kernel to use updated packages.\n"
     ]
    },
    {
     "name": "stderr",
     "output_type": "stream",
     "text": [
      "\n",
      "[notice] A new release of pip is available: 24.3.1 -> 25.0.1\n",
      "[notice] To update, run: python.exe -m pip install --upgrade pip\n"
     ]
    }
   ],
   "source": [
    "pip install mysql-connector"
   ]
  },
  {
   "cell_type": "code",
   "execution_count": 8,
   "id": "64d923c4-295a-42e8-b362-23a0d68a1297",
   "metadata": {},
   "outputs": [
    {
     "name": "stdout",
     "output_type": "stream",
     "text": [
      "Requirement already satisfied: pymysql in c:\\users\\rohid\\appdata\\local\\programs\\python\\python311\\lib\\site-packages (1.1.1)Note: you may need to restart the kernel to use updated packages.\n"
     ]
    },
    {
     "name": "stderr",
     "output_type": "stream",
     "text": [
      "\n",
      "[notice] A new release of pip is available: 24.3.1 -> 25.0.1\n",
      "[notice] To update, run: python.exe -m pip install --upgrade pip\n"
     ]
    },
    {
     "name": "stdout",
     "output_type": "stream",
     "text": [
      "\n"
     ]
    }
   ],
   "source": [
    "pip install pymysql"
   ]
  },
  {
   "cell_type": "code",
   "execution_count": 15,
   "id": "255d7fc3-c448-4907-aa81-b1987ed37be9",
   "metadata": {},
   "outputs": [
    {
     "name": "stdout",
     "output_type": "stream",
     "text": [
      "('information_schema',)\n",
      "('mysql',)\n",
      "('performance_schema',)\n",
      "('pet1',)\n",
      "('pymy',)\n",
      "('pywit',)\n",
      "('sys',)\n",
      "('wit',)\n"
     ]
    }
   ],
   "source": [
    "import pymysql\n",
    "\n",
    "myconn = pymysql.connect(\n",
    "    host = 'localhost',\n",
    "    user = 'root',\n",
    "    password = 'Rohit@123'\n",
    ")\n",
    "# print(myconn)\n",
    "\n",
    "cur = myconn.cursor()\n",
    "\n",
    "# cur.execute('create database pymy')\n",
    "cur.execute('show databases')\n",
    "\n",
    "for i in cur:\n",
    "    print(i)\n"
   ]
  },
  {
   "cell_type": "code",
   "execution_count": 26,
   "id": "2a635460-69c6-4b6f-ab0e-8771f9358f43",
   "metadata": {},
   "outputs": [],
   "source": [
    "#creating table\n",
    "import pymysql\n",
    "\n",
    "myconn = pymysql.connect(\n",
    "    host='localhost',\n",
    "    user='root',\n",
    "    password='Rohit@123',\n",
    "    database='pywit'\n",
    ")\n",
    "\n",
    "cur = myconn.cursor()\n",
    "\n",
    "cur.execute('create table new1(id int primary key,name varchar(20),age int)')"
   ]
  },
  {
   "cell_type": "code",
   "execution_count": 27,
   "id": "902589ed-a27e-437a-80b3-6ac0b553fd5f",
   "metadata": {},
   "outputs": [
    {
     "name": "stdout",
     "output_type": "stream",
     "text": [
      "('new',)\n",
      "('new1',)\n"
     ]
    }
   ],
   "source": [
    "#show tables\n",
    "myconn = pymysql.connect(\n",
    "    host='localhost',\n",
    "    user='root',\n",
    "    password='Rohit@123',\n",
    "    database='pywit'\n",
    ")\n",
    "cur = myconn.cursor()\n",
    "cur.execute('show tables')\n",
    "for i in cur:\n",
    "    print(i)"
   ]
  },
  {
   "cell_type": "code",
   "execution_count": 28,
   "id": "c4a9df47-8c5f-4119-a9bf-11e2c57ae68e",
   "metadata": {},
   "outputs": [
    {
     "data": {
      "text/plain": [
       "0"
      ]
     },
     "execution_count": 28,
     "metadata": {},
     "output_type": "execute_result"
    }
   ],
   "source": [
    "#renew table\n",
    "myconn = pymysql.connect(\n",
    "    host='localhost',\n",
    "    user='root',\n",
    "    password='Rohit@123',\n",
    "    database='pywit'\n",
    ")\n",
    "cur = myconn.cursor()\n",
    "cur.execute('alter table new rename to newdata')"
   ]
  },
  {
   "cell_type": "code",
   "execution_count": 29,
   "id": "e0fcd8c4-28f7-48aa-9acd-0aea01803997",
   "metadata": {},
   "outputs": [
    {
     "data": {
      "text/plain": [
       "0"
      ]
     },
     "execution_count": 29,
     "metadata": {},
     "output_type": "execute_result"
    }
   ],
   "source": [
    "#delete table\n",
    "myconn = pymysql.connect(\n",
    "    host='localhost',\n",
    "    user='root',\n",
    "    password='Rohit@123',\n",
    "    database='pywit'\n",
    ")\n",
    "cur = myconn.cursor()\n",
    "cur.execute('drop table new1')"
   ]
  },
  {
   "cell_type": "code",
   "execution_count": 33,
   "id": "c33ee8c4-82b6-4422-92cd-f34faa93189d",
   "metadata": {},
   "outputs": [],
   "source": [
    "#insert data into the table\n",
    "myconn = pymysql.connect(\n",
    "    host='localhost',\n",
    "    user='root',\n",
    "    password='Rohit@123',\n",
    "    database='pywit'\n",
    ")\n",
    "cur = myconn.cursor()\n",
    "\n",
    "# cur.execute('insert into newdata(id,name,age) values(%s,%s,%s)',(1,'Rohit',20))\n",
    "query = 'insert into newdata(id,name,age) values(%s,%s,%s)'\n",
    "val = (2,'Rohit',20)\n",
    "cur.execute(query,val)\n",
    "myconn.commit()"
   ]
  },
  {
   "cell_type": "code",
   "execution_count": 36,
   "id": "b246b430-e862-4b0c-aa8a-b388d648452b",
   "metadata": {},
   "outputs": [],
   "source": [
    "#multiple data insert into the table\n",
    "myconn = pymysql.connect(\n",
    "    host='localhost',\n",
    "    user='root',\n",
    "    password='Rohit@123',\n",
    "    database='pywit'\n",
    ")\n",
    "cur = myconn.cursor()\n",
    "query = 'insert into newdata(id,name,age) values(%s,%s,%s)'\n",
    "val = [\n",
    "    (3,'aaaa',22),(4,'bbb',34),(5,'ccc',35),(6,'yyy',21)\n",
    "]\n",
    "\n",
    "cur.executemany(query,val)\n",
    "myconn.commit()"
   ]
  },
  {
   "cell_type": "code",
   "execution_count": 35,
   "id": "70e9948b-0392-4f24-abf0-e2c081a8637c",
   "metadata": {},
   "outputs": [
    {
     "data": {
      "text/plain": [
       "0"
      ]
     },
     "execution_count": 35,
     "metadata": {},
     "output_type": "execute_result"
    }
   ],
   "source": [
    "#using truncate\n",
    "myconn = pymysql.connect(\n",
    "    host='localhost',\n",
    "    user='root',\n",
    "    password='Rohit@123',\n",
    "    database='pywit'\n",
    ")\n",
    "cur = myconn.cursor()\n",
    "cur.execute('truncate table newdata')"
   ]
  },
  {
   "cell_type": "code",
   "execution_count": 39,
   "id": "caba2e84-68ea-42c0-889b-fa54cb0d703a",
   "metadata": {},
   "outputs": [],
   "source": [
    "#delete\n",
    "myconn = pymysql.connect(\n",
    "    host='localhost',\n",
    "    user='root',\n",
    "    password='Rohit@123',\n",
    "    database='pywit'\n",
    ")\n",
    "cur = myconn.cursor()\n",
    "cur.execute('delete from newdata where id=4')\n",
    "myconn.commit()"
   ]
  },
  {
   "cell_type": "code",
   "execution_count": 41,
   "id": "b9ec2c4d-53d9-4440-bfa7-11f0c6c157d9",
   "metadata": {},
   "outputs": [],
   "source": [
    "#update\n",
    "myconn = pymysql.connect(\n",
    "    host='localhost',\n",
    "    user='root',\n",
    "    password='Rohit@123',\n",
    "    database='pywit'\n",
    ")\n",
    "cur = myconn.cursor()\n",
    "cur.execute('update newdata set name=\"I-Dont-know\" where id=3')\n",
    "myconn.commit()\n"
   ]
  },
  {
   "cell_type": "code",
   "execution_count": null,
   "id": "e3fda672-5730-4c83-a491-7830f0f1f5cc",
   "metadata": {},
   "outputs": [],
   "source": []
  }
 ],
 "metadata": {
  "kernelspec": {
   "display_name": "Python 3 (ipykernel)",
   "language": "python",
   "name": "python3"
  },
  "language_info": {
   "codemirror_mode": {
    "name": "ipython",
    "version": 3
   },
   "file_extension": ".py",
   "mimetype": "text/x-python",
   "name": "python",
   "nbconvert_exporter": "python",
   "pygments_lexer": "ipython3",
   "version": "3.11.0"
  }
 },
 "nbformat": 4,
 "nbformat_minor": 5
}
