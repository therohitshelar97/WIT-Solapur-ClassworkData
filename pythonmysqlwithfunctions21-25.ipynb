{
 "cells": [
  {
   "cell_type": "code",
   "execution_count": null,
   "id": "1c890385-dcfc-4096-85fc-014f3c041a3e",
   "metadata": {},
   "outputs": [],
   "source": [
    "import pymysql\n",
    "\n",
    "conn = pymysql.connect(\n",
    "    host='localhost',\n",
    "    user='root',\n",
    "    password='Rohit@123',\n",
    "    database='pywit'\n",
    ")\n",
    "cur = conn.cursor()\n",
    "\n",
    "def createTable(tname):\n",
    "    t = f'''create table {tname}(id int primary key auto_increment,\n",
    "    name varchar(20),dob date,location varchar(20))'''\n",
    "    cur.execute(t)\n",
    "    print(f\"{tname} table created successfully...\")\n",
    "# createTable('xyz')\n",
    "def Rename(oldname,newname):\n",
    "    query = f'''alter table {oldname} rename to {newname}'''\n",
    "    cur.execute(query)\n",
    "    print(f'You have successfully rename the table from {oldname} to {newname}')\n",
    "Rename('xyzdata','Data')\n"
   ]
  },
  {
   "cell_type": "code",
   "execution_count": null,
   "id": "f2a524dc-e6db-4d7f-b87d-b472f0622820",
   "metadata": {},
   "outputs": [],
   "source": [
    "# a = []\n",
    "# tname = input(\"Enter table name : \")\n",
    "# while True:\n",
    "#     column = input('Enter column name data types and contraints or \"break\" : ')\n",
    "#     if column == 'break':\n",
    "#         break\n",
    "#     a.append(column)\n",
    "\n",
    "# b = str(tuple(a))\n",
    "# print(f\"{b}\")\n",
    "# query = f\"create table {tname}{b}\"\n",
    "# cur.execute(query)\n",
    "    \n",
    "    \n",
    "    "
   ]
  },
  {
   "cell_type": "code",
   "execution_count": null,
   "id": "280fb06b-aec5-45a5-82a3-b5b7bcd65897",
   "metadata": {},
   "outputs": [],
   "source": []
  }
 ],
 "metadata": {
  "kernelspec": {
   "display_name": "Python 3 (ipykernel)",
   "language": "python",
   "name": "python3"
  },
  "language_info": {
   "codemirror_mode": {
    "name": "ipython",
    "version": 3
   },
   "file_extension": ".py",
   "mimetype": "text/x-python",
   "name": "python",
   "nbconvert_exporter": "python",
   "pygments_lexer": "ipython3",
   "version": "3.11.0"
  }
 },
 "nbformat": 4,
 "nbformat_minor": 5
}
