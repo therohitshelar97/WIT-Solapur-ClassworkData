{
 "cells": [
  {
   "cell_type": "code",
   "execution_count": 16,
   "id": "c6b8f351-ccf4-4672-8295-77b61e2800a7",
   "metadata": {},
   "outputs": [
    {
     "name": "stdout",
     "output_type": "stream",
     "text": [
      "seat number : 101\n",
      "student Name : ram\n",
      "School/College Name : WIT School\n",
      "========================================\n",
      "physics = 40.0\n",
      "chemistry = 45.0\n",
      "Mathematics = 45.0\n",
      "Biology = 55.0\n",
      "english = 60.0\n",
      "Marathi = 41.0\n",
      "pass\n",
      "average marks are 47.666666666666664 %\n"
     ]
    }
   ],
   "source": [
    "import pymysql \n",
    "\n",
    "conn = pymysql.connect(\n",
    "    host='localhost',\n",
    "    user='root',\n",
    "    password='Rohit@123',\n",
    "    database='pywit'\n",
    ")\n",
    "\n",
    "cur = conn.cursor()\n",
    "\n",
    "def Result(seat,name):\n",
    "    cur.execute('select * from student where seat_no=%s and sname = %s',(seat,name))\n",
    "    a = cur.fetchone()\n",
    "    cur.execute('select * from marks where seat_no = %s',a[0])\n",
    "    b = cur.fetchone()\n",
    "    label = ['','physics','chemistry','Mathematics','Biology','english','Marathi']\n",
    "    avg = 0\n",
    "    print(f\"seat number : {a[0]}\")\n",
    "    print(f\"student Name : {a[1]}\")\n",
    "    print(f\"School/College Name : {a[3]}\")\n",
    "    print(\"========================================\")\n",
    "    for i in range(1,len(label)):\n",
    "        print(f'{label[i]} = {b[i]}')\n",
    "        avg+=b[i]\n",
    "    aa = avg/6\n",
    "    if aa>=40 and aa<=100:\n",
    "        print(\"pass\")\n",
    "    else:\n",
    "        print('Failed')\n",
    "    \n",
    "    print(\"average marks are\",(avg/6),\"%\")\n",
    "Result(101,'ram')\n",
    "    "
   ]
  },
  {
   "cell_type": "code",
   "execution_count": 28,
   "id": "c4e9e9bd-6208-44ad-ac4e-c29b65ed39f8",
   "metadata": {},
   "outputs": [
    {
     "name": "stdout",
     "output_type": "stream",
     "text": [
      "{\"name\": \"abc\", \"age\": 66}\n"
     ]
    }
   ],
   "source": [
    "import json\n",
    "a = {'name':'abc','age':66}\n",
    "b = json.dumps(a)\n",
    "print(b)"
   ]
  },
  {
   "cell_type": "code",
   "execution_count": null,
   "id": "f3680874-1d09-41c2-9fc7-0ae96ff50154",
   "metadata": {},
   "outputs": [],
   "source": []
  }
 ],
 "metadata": {
  "kernelspec": {
   "display_name": "Python 3 (ipykernel)",
   "language": "python",
   "name": "python3"
  },
  "language_info": {
   "codemirror_mode": {
    "name": "ipython",
    "version": 3
   },
   "file_extension": ".py",
   "mimetype": "text/x-python",
   "name": "python",
   "nbconvert_exporter": "python",
   "pygments_lexer": "ipython3",
   "version": "3.11.0"
  }
 },
 "nbformat": 4,
 "nbformat_minor": 5
}
