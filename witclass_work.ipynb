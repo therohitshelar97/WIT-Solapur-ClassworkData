{
 "cells": [
  {
   "cell_type": "code",
   "execution_count": 1,
   "id": "6bd49e7e-913e-433e-9836-a4560fb293f7",
   "metadata": {},
   "outputs": [
    {
     "name": "stdout",
     "output_type": "stream",
     "text": [
      "Hello world\n"
     ]
    }
   ],
   "source": [
    "print(\"Hello world\")"
   ]
  },
  {
   "cell_type": "code",
   "execution_count": 3,
   "id": "3dd2782c-9b2a-41a6-93ed-f3f081b3b78a",
   "metadata": {},
   "outputs": [
    {
     "name": "stdout",
     "output_type": "stream",
     "text": [
      "***"
     ]
    }
   ],
   "source": [
    "print(\"*\",end=\"\")\n",
    "print(\"*\",end=\"\")\n",
    "print(\"*\",end=\"\")"
   ]
  },
  {
   "cell_type": "code",
   "execution_count": 5,
   "id": "1aef3e15-eef9-4c4c-a089-17a5237a730a",
   "metadata": {},
   "outputs": [
    {
     "name": "stdout",
     "output_type": "stream",
     "text": [
      "****************************************************************************************************************************************************************************************************************************************************************************************************************************************************************************************************************************************************************************************************************************************************************************************************************************************************************************************************************************************************************************************************************************************************************************************************************************************************************************************************************************************"
     ]
    }
   ],
   "source": [
    "print(\"*\"*1000, end=\"\")"
   ]
  },
  {
   "cell_type": "code",
   "execution_count": 6,
   "id": "8a06a305-592b-4442-8c0d-484f5a5567c7",
   "metadata": {},
   "outputs": [
    {
     "name": "stdout",
     "output_type": "stream",
     "text": [
      "my name is  Rohit and my age is  40\n"
     ]
    }
   ],
   "source": [
    "name = \"Rohit\"\n",
    "age = 40\n",
    "print(\"my name is \",name,\"and my age is \",age)"
   ]
  },
  {
   "cell_type": "code",
   "execution_count": 7,
   "id": "ae1639f7-3909-4cff-b925-6c8d11b99a71",
   "metadata": {},
   "outputs": [
    {
     "name": "stdout",
     "output_type": "stream",
     "text": [
      "my name is Rohit and i live in Solapur\n"
     ]
    }
   ],
   "source": [
    "#String formatting methods\n",
    "name=\"Rohit\"\n",
    "city=\"Solapur\"\n",
    "print(\"my name is {} and i live in {}\".format(name,city))"
   ]
  },
  {
   "cell_type": "code",
   "execution_count": 11,
   "id": "7b34d4fc-818e-4e8a-b8b0-088ca7de053a",
   "metadata": {},
   "outputs": [
    {
     "name": "stdout",
     "output_type": "stream",
     "text": [
      "my name is Rohit my age is 55 and i live in Solapur and my marks are 45.233\n"
     ]
    }
   ],
   "source": [
    "name=\"Rohit\"\n",
    "age=55\n",
    "city=\"Solapur\"\n",
    "marks=45.233333333\n",
    "print(\"my name is %s my age is %d and i live in %s and my marks are %.3f\"%(name,age,city,marks))"
   ]
  },
  {
   "cell_type": "code",
   "execution_count": 14,
   "id": "d3d4c2ad-c818-4b6e-bcfd-052d90e5a0be",
   "metadata": {},
   "outputs": [
    {
     "name": "stdout",
     "output_type": "stream",
     "text": [
      "my name is {name} and i live in {city}\n"
     ]
    }
   ],
   "source": [
    "name=\"Rohit\"\n",
    "city=\"Solapur\"\n",
    "print(f\"my name is {name} and i live in {city}\") "
   ]
  },
  {
   "cell_type": "code",
   "execution_count": null,
   "id": "2d981f46-e9b1-46e7-b964-2105d7431365",
   "metadata": {},
   "outputs": [],
   "source": []
  },
  {
   "cell_type": "code",
   "execution_count": 16,
   "id": "4904ce43-a9d4-443f-999e-531d6999a33b",
   "metadata": {},
   "outputs": [
    {
     "name": "stdout",
     "output_type": "stream",
     "text": [
      "nahk si eman yM\n"
     ]
    }
   ],
   "source": [
    "data = \"My name is khan\"\n",
    "print(data[::-1])"
   ]
  },
  {
   "cell_type": "code",
   "execution_count": 18,
   "id": "ed9cd2b2-1539-4bda-badb-e9c83bea38e3",
   "metadata": {},
   "outputs": [
    {
     "name": "stdout",
     "output_type": "stream",
     "text": [
      "name\n",
      "name\n"
     ]
    }
   ],
   "source": [
    "\"\"\"\n",
    "Syntax\n",
    "variable[start:end:step]\n",
    "\"\"\"\n",
    "data = \"My name is Something\"\n",
    "print(data[3:7:1])\n",
    "print(data[-17:-13:1])"
   ]
  },
  {
   "cell_type": "code",
   "execution_count": 19,
   "id": "cdfe3bdf-e5fc-4037-9843-60b99f7e7d8c",
   "metadata": {},
   "outputs": [
    {
     "name": "stdout",
     "output_type": "stream",
     "text": [
      "SOMETHING\n"
     ]
    }
   ],
   "source": [
    "name=\"Something\"\n",
    "print(name.upper())"
   ]
  },
  {
   "cell_type": "code",
   "execution_count": 20,
   "id": "edf0af6a-6d02-441f-8e19-5e01189f8445",
   "metadata": {},
   "outputs": [
    {
     "name": "stdout",
     "output_type": "stream",
     "text": [
      "something\n"
     ]
    }
   ],
   "source": [
    "name=\"SOMETHING\"\n",
    "print(name.lower())"
   ]
  },
  {
   "cell_type": "code",
   "execution_count": 21,
   "id": "a3b3cff6-ba6d-43ae-979d-9f09b9b0c548",
   "metadata": {},
   "outputs": [
    {
     "name": "stdout",
     "output_type": "stream",
     "text": [
      "My Name Is Khan\n"
     ]
    }
   ],
   "source": [
    "name=\"my name is khan\"\n",
    "print(name.title())"
   ]
  },
  {
   "cell_type": "code",
   "execution_count": 22,
   "id": "7061d2f4-4d54-46fa-a18a-9c8d8346d273",
   "metadata": {},
   "outputs": [
    {
     "name": "stdout",
     "output_type": "stream",
     "text": [
      "My name is something\n"
     ]
    }
   ],
   "source": [
    "name=\"my name is something\"\n",
    "print(name.capitalize())"
   ]
  },
  {
   "cell_type": "code",
   "execution_count": 31,
   "id": "5255ee07-7eb6-4aad-9d9b-62a844135d07",
   "metadata": {},
   "outputs": [
    {
     "name": "stdout",
     "output_type": "stream",
     "text": [
      "[1, 2, 3, 'abc', 'xyz']\n",
      "<class 'list'>\n",
      "[1, 2, 'WIT', 4, 'Something', 'xyz']\n"
     ]
    }
   ],
   "source": [
    "#multi collection data types\n",
    "#1.sequence,list,tuple,range\n",
    "#what is the list ?\n",
    "#first way to defin the list\n",
    "#using constructor method\n",
    "a=list((1,2,3,\"abc\",\"xyz\"))\n",
    "print(a)\n",
    "print(type(a))\n",
    "\n",
    "b=[1,2,3,4,'abc','xyz']\n",
    "b[4]=\"Something\"\n",
    "# b.remove(3)\n",
    "b.pop(2)\n",
    "# del b[2]\n",
    "b.insert(2,\"WIT\")\n",
    "print(b)"
   ]
  },
  {
   "cell_type": "code",
   "execution_count": 33,
   "id": "e874d4b5-e22f-47e6-8d71-137ae24731d5",
   "metadata": {},
   "outputs": [
    {
     "name": "stdout",
     "output_type": "stream",
     "text": [
      "[[['a', [1, 2, [[0, 2, 'Big Boss', [12, 11, 33]]]]]]]\n"
     ]
    }
   ],
   "source": [
    "a=[[[\"a\",[1,2,[[0,2,'bb',[12,11,33]]]]]]]\n",
    "a[0][0][1][2][0][2]=\"Big Boss\"\n",
    "print(a)"
   ]
  },
  {
   "cell_type": "code",
   "execution_count": 35,
   "id": "62ba5294-8b9f-4cd1-8310-162267acd816",
   "metadata": {},
   "outputs": [
    {
     "name": "stdout",
     "output_type": "stream",
     "text": [
      "[1, 2, [0, [[['xyz', [0, 99, 4, ['a', 'b', [1, 2, 3, ['yes', 'WIT', [[5]]]]]]]]]]]\n"
     ]
    }
   ],
   "source": [
    "a=[1,2,[0,[[['xyz',[0,99,4,['a','b',[1,2,3,['yes','no',[[5]]]]]]]]]]]\n",
    "a[2][1][0][0][1][3][2][3][1]=\"WIT\"\n",
    "print(a)"
   ]
  },
  {
   "cell_type": "code",
   "execution_count": 37,
   "id": "12d00ac8-127f-403a-851e-54e2c9df54f1",
   "metadata": {},
   "outputs": [
    {
     "name": "stdout",
     "output_type": "stream",
     "text": [
      "(1, 2, 3, 4, 5, 'abc', 'xyz')\n",
      "<class 'tuple'>\n"
     ]
    }
   ],
   "source": [
    "# tuple\n",
    "a=tuple((1,2,3,4,5,'abc','xyz'))\n",
    "print(a)\n",
    "print(type(a))"
   ]
  },
  {
   "cell_type": "code",
   "execution_count": 39,
   "id": "ea09cbbc-919e-4b7a-9a55-29d5f18b64e5",
   "metadata": {},
   "outputs": [
    {
     "name": "stdout",
     "output_type": "stream",
     "text": [
      "(1, 2, 3, 4, 5)\n"
     ]
    }
   ],
   "source": [
    "a=(1,2,3,4,5)\n",
    "print(a)"
   ]
  },
  {
   "cell_type": "code",
   "execution_count": 40,
   "id": "31a44936-b35e-4a48-a797-cb0a8013e331",
   "metadata": {},
   "outputs": [
    {
     "name": "stdout",
     "output_type": "stream",
     "text": [
      "(1, 2, 3, 4)\n"
     ]
    }
   ],
   "source": [
    "a = (1,2)\n",
    "b = (3,4)\n",
    "print(a+b)"
   ]
  },
  {
   "cell_type": "code",
   "execution_count": 41,
   "id": "48f02710-786d-4238-aee8-21d9e0a1dd7f",
   "metadata": {},
   "outputs": [
    {
     "name": "stdout",
     "output_type": "stream",
     "text": [
      "<class 'tuple'>\n"
     ]
    }
   ],
   "source": [
    "a=(1,)\n",
    "print(type(a))"
   ]
  },
  {
   "cell_type": "code",
   "execution_count": 46,
   "id": "228fc60f-24f1-4d6c-a544-94c7c93a0516",
   "metadata": {},
   "outputs": [
    {
     "name": "stdout",
     "output_type": "stream",
     "text": [
      "rohit\n",
      "Mumbai\n"
     ]
    },
    {
     "data": {
      "text/plain": [
       "55"
      ]
     },
     "execution_count": 46,
     "metadata": {},
     "output_type": "execute_result"
    }
   ],
   "source": [
    "a=('rohit','Mumbai',55)\n",
    "(name,city,age) = a\n",
    "print(name)\n",
    "print(city)\n",
    "age"
   ]
  },
  {
   "cell_type": "code",
   "execution_count": 65,
   "id": "da37166f-d4ee-4bdb-93ab-4080dcf4e897",
   "metadata": {},
   "outputs": [
    {
     "name": "stdout",
     "output_type": "stream",
     "text": [
      "[1, 2, [0, [['xyz', (0, 99, 4, ['a', 'b', [1, 2, 3, ['yes', ('WIT',), [[5]]]]])]]]]\n"
     ]
    }
   ],
   "source": [
    "a=[1,2,[0,([['xyz',(0,99,4,['a','b',[1,2,3,['yes',('no',),[[5]]]]])]])]]\n",
    "a[2][1][0][1][3][2][3][1] = (\"WIT\",)\n",
    "\n",
    "print(a)"
   ]
  },
  {
   "cell_type": "code",
   "execution_count": 76,
   "id": "b837590e-2991-43d0-b0eb-aaa7cbdf3eb0",
   "metadata": {},
   "outputs": [
    {
     "name": "stdout",
     "output_type": "stream",
     "text": [
      "{'name': 'Rohit', 'age': 60}\n",
      "<class 'dict'>\n",
      "2\n",
      "Rohit\n",
      "Rohit\n",
      "{'name': 'Rohit', 'age': 60, 'year': 1991, 'new': 'SomethinfNew'}\n"
     ]
    }
   ],
   "source": [
    "# dictinary\n",
    "a={'name':'Rohit','age':60}\n",
    "print(a)\n",
    "print(type(a))\n",
    "print(len(a))\n",
    "print(a['name'])\n",
    "print(a.get('name'))\n",
    "a.update({'year':1991})\n",
    "a['new']=\"SomethinfNew\"\n",
    "# a.clear()\n",
    "# del a['name']\n",
    "# del a\n",
    "print(a)"
   ]
  },
  {
   "cell_type": "code",
   "execution_count": 80,
   "id": "ede45ac6-522f-4489-bbf9-6a47028c370d",
   "metadata": {},
   "outputs": [
    {
     "name": "stdout",
     "output_type": "stream",
     "text": [
      "{'name': {'age': 33, 'data': [1, 2, 3, 5, 7, {'data': {'new': ['No']}}]}}\n"
     ]
    }
   ],
   "source": [
    "a={'name':{'age':33,'data':[1,2,3,5,7,{'data':{'new':['yes']}}]}}\n",
    "a['name']['data'][5]['data']['new'][0]=\"No\"\n",
    "print(a)"
   ]
  },
  {
   "cell_type": "code",
   "execution_count": 83,
   "id": "b1700e37-6295-45b7-ab60-762f196f7a5b",
   "metadata": {},
   "outputs": [
    {
     "name": "stdout",
     "output_type": "stream",
     "text": [
      "dict_values(['Rohit', 60, 1998])\n",
      "dict_keys(['name', 'age', 'year'])\n",
      "dict_items([('name', 'Rohit'), ('age', 60), ('year', 1998)])\n"
     ]
    }
   ],
   "source": [
    "a={'name':'Rohit','age':60,'year':1998}\n",
    "print(a.values())\n",
    "print(a.keys())\n",
    "print(a.items())"
   ]
  },
  {
   "cell_type": "code",
   "execution_count": 90,
   "id": "76e59e9f-6601-4651-a2ca-a536c0128b05",
   "metadata": {},
   "outputs": [
    {
     "name": "stdout",
     "output_type": "stream",
     "text": [
      "{1, 'xyz', 'b', 'abc', 'a'}\n"
     ]
    }
   ],
   "source": [
    "#set\n",
    "a={\"abc\",1,\"xyz\",'a','b',1,1}\n",
    "print(a)"
   ]
  },
  {
   "cell_type": "code",
   "execution_count": 92,
   "id": "6618cf17-ad45-4239-ac6c-275b023214c9",
   "metadata": {},
   "outputs": [
    {
     "name": "stdout",
     "output_type": "stream",
     "text": [
      "1\n",
      "2\n",
      "3\n",
      "4\n",
      "5\n",
      "6\n",
      "7\n",
      "8\n",
      "9\n",
      "10\n",
      "1\n",
      "2\n",
      "3\n",
      "4\n",
      "5\n",
      "6\n",
      "7\n",
      "8\n",
      "9\n",
      "10\n"
     ]
    }
   ],
   "source": [
    "i=1\n",
    "while i<=10:\n",
    "    print(i)\n",
    "    i+=1\n",
    "#for loop\n",
    "for i in range(1,11,1):\n",
    "    print(i)"
   ]
  },
  {
   "cell_type": "code",
   "execution_count": 97,
   "id": "68260e77-6ec8-422c-80da-d588185acd38",
   "metadata": {},
   "outputs": [
    {
     "name": "stdout",
     "output_type": "stream",
     "text": [
      "[2, 4, 6, 8, 10, 56, 58]\n"
     ]
    }
   ],
   "source": [
    "a=[1,2,3,4,5,6,7,8,9,10,55,56,57,58]\n",
    "b=[]\n",
    "#o/p = [all even numbers from above list]\n",
    "for i in range(len(a)):\n",
    "    if a[i]%2 == 0:\n",
    "        b.append(a[i])\n",
    "print(b)"
   ]
  },
  {
   "cell_type": "code",
   "execution_count": 106,
   "id": "b2888077-4730-4a4c-a8b6-b0dbc2252080",
   "metadata": {},
   "outputs": [
    {
     "name": "stdout",
     "output_type": "stream",
     "text": [
      "[1, 2, 3, 4, 5, 18, 20, 22, 66]\n",
      "2\n"
     ]
    }
   ],
   "source": [
    "a=[18,20,2,3,4,5,66,1,22]\n",
    "for i in range(len(a)):\n",
    "    for j in range(len(a)):\n",
    "        if a[i]<=a[j]:\n",
    "            t = a[i]\n",
    "            a[i] = a[j]\n",
    "            a[j] = t\n",
    "print(a)\n",
    "print(a[1])\n",
    "        \n",
    "        "
   ]
  },
  {
   "cell_type": "code",
   "execution_count": 112,
   "id": "2c3863eb-7333-495a-8528-7dcadd2a6b7e",
   "metadata": {},
   "outputs": [
    {
     "name": "stdout",
     "output_type": "stream",
     "text": [
      "[1]\n",
      "[1, 2]\n",
      "[1, 2, 34]\n",
      "[1, 2, 34, 69]\n",
      "[1, 2, 34, 69, 77]\n",
      "[1, 2, 34, 69, 77, 85]\n",
      "[1, 2, 34, 69, 77, 85, 88]\n",
      "[1, 1, 2, 2, 34, 69, 77, 85, 88]\n"
     ]
    }
   ],
   "source": [
    "a=[88,34,1,2,2,1,85,77,69]\n",
    "b=[]\n",
    "for i in range(len(a)):\n",
    "    for j in range(len(a)):\n",
    "        if a[i]<=a[j]:\n",
    "            t = a[i]\n",
    "            a[i] = a[j]\n",
    "            a[j] = t\n",
    "for i in a:\n",
    "    if i not in b:\n",
    "        b.append(i)\n",
    "        print(b)\n",
    "print(a)\n",
    "        "
   ]
  },
  {
   "cell_type": "code",
   "execution_count": 110,
   "id": "1fdd6475-b29d-413b-bf1c-7dee317a6d61",
   "metadata": {},
   "outputs": [
    {
     "name": "stdout",
     "output_type": "stream",
     "text": [
      "88\n",
      "34\n",
      "1\n",
      "2\n",
      "2\n",
      "1\n",
      "85\n",
      "77\n",
      "69\n"
     ]
    }
   ],
   "source": [
    "a=[88,34,1,2,2,1,85,77,69]\n",
    "b=[]\n",
    "for i in a:\n",
    "    print(i)"
   ]
  },
  {
   "cell_type": "code",
   "execution_count": 115,
   "id": "529b5078-3c73-4a71-8da2-d90103a8967f",
   "metadata": {},
   "outputs": [
    {
     "name": "stdout",
     "output_type": "stream",
     "text": [
      "A \n",
      "B B \n",
      "C C C \n",
      "D D D D \n",
      "A\n",
      "BB\n",
      "CCC\n",
      "DDDD\n"
     ]
    }
   ],
   "source": [
    "a=[\"A\",\"B\",\"C\",\"D\"]\n",
    "for row in range(len(a)):\n",
    "    for col in range(row+1):\n",
    "        print(a[row], end=\" \")\n",
    "    print()\n",
    "\n",
    "c=1\n",
    "for i in range(len(a)):\n",
    "    print(a[i]*c)\n",
    "    c+=1"
   ]
  },
  {
   "cell_type": "code",
   "execution_count": 116,
   "id": "20187cbb-54fa-474d-a607-3749e32c8257",
   "metadata": {},
   "outputs": [
    {
     "name": "stdin",
     "output_type": "stream",
     "text": [
      "Enter your name  Rohit\n"
     ]
    },
    {
     "name": "stdout",
     "output_type": "stream",
     "text": [
      "Rohit\n"
     ]
    }
   ],
   "source": [
    "u1 = input(\"Enter your name \")\n",
    "print(u1)"
   ]
  },
  {
   "cell_type": "code",
   "execution_count": 118,
   "id": "0addcc54-1de7-4257-bdd6-d141231c902f",
   "metadata": {},
   "outputs": [
    {
     "name": "stdin",
     "output_type": "stream",
     "text": [
      "Enter your seat number :  420\n",
      "Enter mother name :  abc\n"
     ]
    },
    {
     "name": "stdout",
     "output_type": "stream",
     "text": [
      " Math:40 /n Chemistry :40 /n Physics :45 /n English : 40 /n Hindi : 41\n"
     ]
    }
   ],
   "source": [
    "seat=input(\"Enter your seat number : \")\n",
    "mname=input(\"Enter mother name : \")\n",
    "if seat==\"420\" and mname == \"abc\":\n",
    "    math=40\n",
    "    chem=40\n",
    "    phy=45\n",
    "    eng=40\n",
    "    hindi=41\n",
    "    avg=(math+chem+phy+eng+hindi)/5\n",
    "    print(f\" Math:{math} /n Chemistry :{chem} /n Physics :{phy} /n English : {eng} /n Hindi : {hindi}\")\n",
    "elif seat==\"421\" and mname == \"abc1\":\n",
    "    math=41\n",
    "    chem=40\n",
    "    phy=45\n",
    "    eng=40\n",
    "    hindi=41\n",
    "    avg=(math+chem+phy+eng+hindi)/5\n",
    "    print(f\" Math:{math} /n Chemistry :{chem} /n Physics :{phy} /n English : {eng} /n Hindi : {hindi}\")"
   ]
  },
  {
   "cell_type": "code",
   "execution_count": 129,
   "id": "b5b81f78-258a-4ced-bf89-d74422a491b9",
   "metadata": {},
   "outputs": [
    {
     "name": "stdin",
     "output_type": "stream",
     "text": [
      "enter your seat number :  423\n",
      "Enter your mother name :  str\n"
     ]
    },
    {
     "name": "stdout",
     "output_type": "stream",
     "text": [
      "[55, 43, 56, 76, 45]\n",
      "Mathematics: 55\n",
      "Chemistry: 43\n",
      "Physics: 56\n",
      "English: 76\n",
      "Hindi: 45\n"
     ]
    }
   ],
   "source": [
    "useat = int(input(\"enter your seat number : \"))\n",
    "umname = input(\"Enter your mother name : \")\n",
    "\n",
    "seat=[420,421,422,423]\n",
    "mname=['abc','xyz','pqr','str']\n",
    "data={420:[40,42,44,42,40],421:[55,66,77,44,88],422:[44,66,77,22,56],423:[55,43,56,76,45]}\n",
    "\n",
    "for i in range(len(seat)):\n",
    "    if seat[i]==useat and mname[i]==umname:\n",
    "        for j in data:\n",
    "            # print(j)\n",
    "            if j==seat[i]:\n",
    "                print(data[j])\n",
    "                print(f\"Mathematics: {data[j][0]}\")\n",
    "                print(f\"Chemistry: {data[j][1]}\")\n",
    "                print(f\"Physics: {data[j][2]}\")\n",
    "                print(f\"English: {data[j][3]}\")\n",
    "                print(f\"Hindi: {data[j][4]}\")\n",
    "                avg = (data[j][0]+data[j][1]+data[j][2]+data[j][3]+data[j][4])/5\n",
    "                print(\"percentage \",avg,\"%\")\n",
    "        \n",
    "    "
   ]
  },
  {
   "cell_type": "code",
   "execution_count": 152,
   "id": "d007f78a-6662-41a1-bb6b-4ffbd405ec89",
   "metadata": {},
   "outputs": [
    {
     "name": "stdin",
     "output_type": "stream",
     "text": [
      "Enter your pin :  1234\n",
      "Enter Amount... 300\n"
     ]
    },
    {
     "name": "stdout",
     "output_type": "stream",
     "text": [
      "Received 1 notes of 200\n",
      "Received 1 notes of 100\n",
      "Thank You For Banking With Us...\n"
     ]
    }
   ],
   "source": [
    "\n",
    "\n",
    "pinn = [1234,2343,2334]\n",
    "for i in range(3):\n",
    "    pin = int(input(\"Enter your pin : \"))\n",
    "    if pin in pinn:\n",
    "        amt=int(input(\"Enter Amount...\"))\n",
    "        if amt%100 == 0:\n",
    "            if amt>=500:\n",
    "                notes=amt//500\n",
    "                print(f\"Received {notes} notes of 500\")\n",
    "                amt=amt%500\n",
    "            if amt>=200:\n",
    "                notes=amt//200\n",
    "                print(f\"Received {notes} notes of 200\")\n",
    "                amt=amt%200\n",
    "            if amt>=100:\n",
    "                notes=amt//100\n",
    "                print(f\"Received {notes} notes of 100\")\n",
    "        else:\n",
    "            print(\"Amount Shoud be multiple of 100....\")\n",
    "        break\n",
    "else:\n",
    "    print(\"Better luck next time chorrrrr.....\")\n",
    "print(\"Thank You For Banking With Us...\")\n",
    "\n",
    "    \n"
   ]
  },
  {
   "cell_type": "code",
   "execution_count": null,
   "id": "2d5bb092-8d9f-4dc0-a7e4-d9c0dcbddb92",
   "metadata": {},
   "outputs": [],
   "source": []
  }
 ],
 "metadata": {
  "kernelspec": {
   "display_name": "Python 3 (ipykernel)",
   "language": "python",
   "name": "python3"
  },
  "language_info": {
   "codemirror_mode": {
    "name": "ipython",
    "version": 3
   },
   "file_extension": ".py",
   "mimetype": "text/x-python",
   "name": "python",
   "nbconvert_exporter": "python",
   "pygments_lexer": "ipython3",
   "version": "3.11.0"
  }
 },
 "nbformat": 4,
 "nbformat_minor": 5
}
