{
 "cells": [
  {
   "cell_type": "code",
   "execution_count": 3,
   "id": "b178f844-97cc-4983-92a2-f9f7de73556e",
   "metadata": {},
   "outputs": [
    {
     "name": "stdout",
     "output_type": "stream",
     "text": [
      "121 is an palindrom number\n"
     ]
    }
   ],
   "source": [
    "a=121\n",
    "n=a\n",
    "r=0\n",
    "while a!=0:\n",
    "    r=r*10+(a%10)\n",
    "    a=a//10\n",
    "if n==r:\n",
    "    print(f\"{n} is an palindrom number\")\n",
    "else:\n",
    "    print(f\"{n} is not palindrom number\")"
   ]
  },
  {
   "cell_type": "code",
   "execution_count": 9,
   "id": "b135a5b9-a88c-496a-96d1-4d288063da4b",
   "metadata": {},
   "outputs": [
    {
     "name": "stdout",
     "output_type": "stream",
     "text": [
      "This is not an Armstrong number\n"
     ]
    }
   ],
   "source": [
    "#armstrong\n",
    "a=1634\n",
    "a1=a\n",
    "l=len(str(a))\n",
    "n=0\n",
    "while a!=0:\n",
    "    r=a%10\n",
    "    n=n+(r)**l\n",
    "    a=a//10\n",
    "if a1==n:\n",
    "    print(\"Armstrong number\")\n",
    "else:\n",
    "    print(\"Not An Armstrong\")"
   ]
  },
  {
   "cell_type": "code",
   "execution_count": 15,
   "id": "6a3077ff-d776-4252-827e-502ff84f3e86",
   "metadata": {},
   "outputs": [
    {
     "name": "stdout",
     "output_type": "stream",
     "text": [
      " 8 is not prime number\n"
     ]
    }
   ],
   "source": [
    "#prime number\n",
    "n=8\n",
    "i=2\n",
    "while i<n:\n",
    "    r=n%i\n",
    "    if r==0:\n",
    "        print(f\" {n} is not prime number\")\n",
    "        break\n",
    "    i+=1\n",
    "if n==i:\n",
    "    print(f\"{n} is a prime number\")\n"
   ]
  },
  {
   "cell_type": "code",
   "execution_count": 18,
   "id": "f6d676b9-47dd-4839-8de0-d91568892b72",
   "metadata": {},
   "outputs": [
    {
     "name": "stdout",
     "output_type": "stream",
     "text": [
      "Prime numbers 1 to 100 [2, 3, 5, 7, 11, 13, 17, 19, 23, 29, 31, 37, 41, 43, 47, 53, 59, 61, 67, 71, 73, 79, 83, 89, 97]\n",
      "Non prime number 1 to 100 [4, 6, 8, 9, 10, 12, 14, 15, 16, 18, 20, 21, 22, 24, 25, 26, 27, 28, 30, 32, 33, 34, 35, 36, 38, 39, 40, 42, 44, 45, 46, 48, 49, 50, 51, 52, 54, 55, 56, 57, 58, 60, 62, 63, 64, 65, 66, 68, 69, 70, 72, 74, 75, 76, 77, 78, 80, 81, 82, 84, 85, 86, 87, 88, 90, 91, 92, 93, 94, 95, 96, 98, 99, 100]\n"
     ]
    }
   ],
   "source": [
    "#prime 1 to 100\n",
    "n=1\n",
    "pm = []\n",
    "npm = []\n",
    "while n<=100:\n",
    "    i=2\n",
    "    while i<n:\n",
    "        r=n%i\n",
    "        if r==0:\n",
    "            npm.append(n)\n",
    "            break\n",
    "        i+=1\n",
    "    if n==i:\n",
    "        pm.append(i)\n",
    "    n+=1\n",
    "print(\"Prime numbers 1 to 100\",pm)\n",
    "print(\"Non prime number 1 to 100\",npm)\n",
    "    "
   ]
  },
  {
   "cell_type": "code",
   "execution_count": 19,
   "id": "41a4a42c-dfaa-4304-87da-3ca5d7fd9de9",
   "metadata": {},
   "outputs": [
    {
     "name": "stdout",
     "output_type": "stream",
     "text": [
      "[2, 4, 6, 8, 10, 12, 14, 16, 18, 20, 22, 24, 26, 28, 30, 32, 34, 36, 38, 40, 42, 44, 46, 48, 50, 52, 54, 56, 58, 60, 62, 64, 66, 68, 70, 72, 74, 76, 78, 80, 82, 84, 86, 88, 90, 92, 94, 96, 98, 100, 102, 104, 106, 108, 110, 112, 114, 116, 118, 120, 122, 124, 126, 128, 130, 132, 134, 136, 138, 140, 142, 144, 146, 148, 150, 152, 154, 156, 158, 160, 162, 164, 166, 168, 170, 172, 174, 176, 178, 180, 182, 184, 186, 188, 190, 192, 194, 196, 198, 200, 202, 204, 206, 208, 210, 212, 214, 216, 218, 220, 222, 224, 226, 228, 230, 232, 234, 236, 238, 240, 242, 244, 246, 248, 250, 252, 254, 256, 258, 260, 262, 264, 266, 268, 270, 272, 274, 276, 278, 280, 282, 284, 286, 288, 290, 292, 294, 296, 298, 300, 302, 304, 306, 308, 310, 312, 314, 316, 318, 320, 322, 324, 326, 328, 330, 332, 334, 336, 338, 340, 342, 344, 346, 348, 350, 352, 354, 356, 358, 360, 362, 364, 366, 368, 370, 372, 374, 376, 378, 380, 382, 384, 386, 388, 390, 392, 394, 396, 398, 400, 402, 404, 406, 408, 410, 412, 414, 416, 418, 420, 422, 424, 426, 428, 430, 432, 434, 436, 438, 440, 442, 444, 446, 448, 450, 452, 454, 456, 458, 460, 462, 464, 466, 468, 470, 472, 474, 476, 478, 480, 482, 484, 486, 488, 490, 492, 494, 496, 498, 500, 502, 504, 506, 508, 510, 512, 514, 516, 518, 520, 522, 524, 526, 528, 530, 532, 534, 536, 538, 540, 542, 544, 546, 548, 550, 552, 554, 556, 558, 560, 562, 564, 566, 568, 570, 572, 574, 576, 578, 580, 582, 584, 586, 588, 590, 592, 594, 596, 598, 600, 602, 604, 606, 608, 610, 612, 614, 616, 618, 620, 622, 624, 626, 628, 630, 632, 634, 636, 638, 640, 642, 644, 646, 648, 650, 652, 654, 656, 658, 660, 662, 664, 666, 668, 670, 672, 674, 676, 678, 680, 682, 684, 686, 688, 690, 692, 694, 696, 698, 700, 702, 704, 706, 708, 710, 712, 714, 716, 718, 720, 722, 724, 726, 728, 730, 732, 734, 736, 738, 740, 742, 744, 746, 748, 750, 752, 754, 756, 758, 760, 762, 764, 766, 768, 770, 772, 774, 776, 778, 780, 782, 784, 786, 788, 790, 792, 794, 796, 798, 800, 802, 804, 806, 808, 810, 812, 814, 816, 818, 820, 822, 824, 826, 828, 830, 832, 834, 836, 838, 840, 842, 844, 846, 848, 850, 852, 854, 856, 858, 860, 862, 864, 866, 868, 870, 872, 874, 876, 878, 880, 882, 884, 886, 888, 890, 892, 894, 896, 898, 900, 902, 904, 906, 908, 910, 912, 914, 916, 918, 920, 922, 924, 926, 928, 930, 932, 934, 936, 938, 940, 942, 944, 946, 948, 950, 952, 954, 956, 958, 960, 962, 964, 966, 968, 970, 972, 974, 976, 978, 980, 982, 984, 986, 988, 990, 992, 994, 996, 998]\n"
     ]
    }
   ],
   "source": [
    "a = [i for i in range(2,1000,2)]\n",
    "print(a)"
   ]
  },
  {
   "cell_type": "code",
   "execution_count": 23,
   "id": "3c09a235-949b-4014-a947-999f53812402",
   "metadata": {},
   "outputs": [
    {
     "name": "stdout",
     "output_type": "stream",
     "text": [
      "c\n"
     ]
    }
   ],
   "source": [
    "import random\n",
    "a=['a','b','c','d']\n",
    "print(random.choice(a))"
   ]
  },
  {
   "cell_type": "code",
   "execution_count": 9,
   "id": "c4e4580a-367a-4c27-9230-31ee2fe52344",
   "metadata": {},
   "outputs": [
    {
     "name": "stdout",
     "output_type": "stream",
     "text": [
      "cat\n"
     ]
    },
    {
     "name": "stdin",
     "output_type": "stream",
     "text": [
      "if you want to play enter the write word or quit :  cat\n"
     ]
    },
    {
     "name": "stdout",
     "output_type": "stream",
     "text": [
      "Smart hhh, you enter same word....i am not giving you score\n",
      "cat\n"
     ]
    },
    {
     "name": "stdin",
     "output_type": "stream",
     "text": [
      "if you want to play enter the write word or quit :  act\n"
     ]
    },
    {
     "name": "stdout",
     "output_type": "stream",
     "text": [
      "Correct Word\n",
      "Your earn 3 score\n",
      "cat\n"
     ]
    },
    {
     "name": "stdin",
     "output_type": "stream",
     "text": [
      "if you want to play enter the write word or quit :  act\n"
     ]
    },
    {
     "name": "stdout",
     "output_type": "stream",
     "text": [
      "Correct Word\n",
      "Your earn 6 score\n",
      "3\n",
      "cat\n"
     ]
    },
    {
     "name": "stdin",
     "output_type": "stream",
     "text": [
      "if you want to play enter the write word or quit :  cat\n"
     ]
    },
    {
     "name": "stdout",
     "output_type": "stream",
     "text": [
      "Smart hhh, you enter same word....i am not giving you score\n",
      "art\n"
     ]
    },
    {
     "name": "stdin",
     "output_type": "stream",
     "text": [
      "if you want to play enter the write word or quit :  art\n"
     ]
    },
    {
     "name": "stdout",
     "output_type": "stream",
     "text": [
      "Smart hhh, you enter same word....i am not giving you score\n",
      "ten\n"
     ]
    },
    {
     "name": "stdin",
     "output_type": "stream",
     "text": [
      "if you want to play enter the write word or quit :  ten\n"
     ]
    },
    {
     "name": "stdout",
     "output_type": "stream",
     "text": [
      "Smart hhh, you enter same word....i am not giving you score\n",
      "0\n",
      "rat\n"
     ]
    },
    {
     "name": "stdin",
     "output_type": "stream",
     "text": [
      "if you want to play enter the write word or quit :  quit\n"
     ]
    },
    {
     "name": "stdout",
     "output_type": "stream",
     "text": [
      "Thank You For Playing..\n",
      "net\n"
     ]
    },
    {
     "name": "stdin",
     "output_type": "stream",
     "text": [
      "if you want to play enter the write word or quit :  quit\n"
     ]
    },
    {
     "name": "stdout",
     "output_type": "stream",
     "text": [
      "Thank You For Playing..\n",
      "act\n"
     ]
    },
    {
     "ename": "KeyboardInterrupt",
     "evalue": "Interrupted by user",
     "output_type": "error",
     "traceback": [
      "\u001b[1;31m---------------------------------------------------------------------------\u001b[0m",
      "\u001b[1;31mKeyboardInterrupt\u001b[0m                         Traceback (most recent call last)",
      "Cell \u001b[1;32mIn[9], line 10\u001b[0m\n\u001b[0;32m      8\u001b[0m genw\u001b[38;5;241m=\u001b[39m\u001b[38;5;124m\"\u001b[39m\u001b[38;5;124m\"\u001b[39m\u001b[38;5;241m.\u001b[39mjoin(letters)\n\u001b[0;32m      9\u001b[0m \u001b[38;5;28mprint\u001b[39m(genw)\n\u001b[1;32m---> 10\u001b[0m user_word\u001b[38;5;241m=\u001b[39m\u001b[38;5;28;43minput\u001b[39;49m\u001b[43m(\u001b[49m\u001b[38;5;124;43m\"\u001b[39;49m\u001b[38;5;124;43mif you want to play enter the write word or quit : \u001b[39;49m\u001b[38;5;124;43m\"\u001b[39;49m\u001b[43m)\u001b[49m\n\u001b[0;32m     11\u001b[0m \u001b[38;5;28;01mif\u001b[39;00m user_word\u001b[38;5;241m==\u001b[39m\u001b[38;5;124m\"\u001b[39m\u001b[38;5;124mquit\u001b[39m\u001b[38;5;124m\"\u001b[39m:\n\u001b[0;32m     12\u001b[0m     \u001b[38;5;28mprint\u001b[39m(\u001b[38;5;124m\"\u001b[39m\u001b[38;5;124mThank You For Playing..\u001b[39m\u001b[38;5;124m\"\u001b[39m)\n",
      "File \u001b[1;32m~\\AppData\\Local\\Programs\\Python\\Python311\\Lib\\site-packages\\ipykernel\\kernelbase.py:1282\u001b[0m, in \u001b[0;36mKernel.raw_input\u001b[1;34m(self, prompt)\u001b[0m\n\u001b[0;32m   1280\u001b[0m     msg \u001b[38;5;241m=\u001b[39m \u001b[38;5;124m\"\u001b[39m\u001b[38;5;124mraw_input was called, but this frontend does not support input requests.\u001b[39m\u001b[38;5;124m\"\u001b[39m\n\u001b[0;32m   1281\u001b[0m     \u001b[38;5;28;01mraise\u001b[39;00m StdinNotImplementedError(msg)\n\u001b[1;32m-> 1282\u001b[0m \u001b[38;5;28;01mreturn\u001b[39;00m \u001b[38;5;28;43mself\u001b[39;49m\u001b[38;5;241;43m.\u001b[39;49m\u001b[43m_input_request\u001b[49m\u001b[43m(\u001b[49m\n\u001b[0;32m   1283\u001b[0m \u001b[43m    \u001b[49m\u001b[38;5;28;43mstr\u001b[39;49m\u001b[43m(\u001b[49m\u001b[43mprompt\u001b[49m\u001b[43m)\u001b[49m\u001b[43m,\u001b[49m\n\u001b[0;32m   1284\u001b[0m \u001b[43m    \u001b[49m\u001b[38;5;28;43mself\u001b[39;49m\u001b[38;5;241;43m.\u001b[39;49m\u001b[43m_parent_ident\u001b[49m\u001b[43m[\u001b[49m\u001b[38;5;124;43m\"\u001b[39;49m\u001b[38;5;124;43mshell\u001b[39;49m\u001b[38;5;124;43m\"\u001b[39;49m\u001b[43m]\u001b[49m\u001b[43m,\u001b[49m\n\u001b[0;32m   1285\u001b[0m \u001b[43m    \u001b[49m\u001b[38;5;28;43mself\u001b[39;49m\u001b[38;5;241;43m.\u001b[39;49m\u001b[43mget_parent\u001b[49m\u001b[43m(\u001b[49m\u001b[38;5;124;43m\"\u001b[39;49m\u001b[38;5;124;43mshell\u001b[39;49m\u001b[38;5;124;43m\"\u001b[39;49m\u001b[43m)\u001b[49m\u001b[43m,\u001b[49m\n\u001b[0;32m   1286\u001b[0m \u001b[43m    \u001b[49m\u001b[43mpassword\u001b[49m\u001b[38;5;241;43m=\u001b[39;49m\u001b[38;5;28;43;01mFalse\u001b[39;49;00m\u001b[43m,\u001b[49m\n\u001b[0;32m   1287\u001b[0m \u001b[43m\u001b[49m\u001b[43m)\u001b[49m\n",
      "File \u001b[1;32m~\\AppData\\Local\\Programs\\Python\\Python311\\Lib\\site-packages\\ipykernel\\kernelbase.py:1325\u001b[0m, in \u001b[0;36mKernel._input_request\u001b[1;34m(self, prompt, ident, parent, password)\u001b[0m\n\u001b[0;32m   1322\u001b[0m \u001b[38;5;28;01mexcept\u001b[39;00m \u001b[38;5;167;01mKeyboardInterrupt\u001b[39;00m:\n\u001b[0;32m   1323\u001b[0m     \u001b[38;5;66;03m# re-raise KeyboardInterrupt, to truncate traceback\u001b[39;00m\n\u001b[0;32m   1324\u001b[0m     msg \u001b[38;5;241m=\u001b[39m \u001b[38;5;124m\"\u001b[39m\u001b[38;5;124mInterrupted by user\u001b[39m\u001b[38;5;124m\"\u001b[39m\n\u001b[1;32m-> 1325\u001b[0m     \u001b[38;5;28;01mraise\u001b[39;00m \u001b[38;5;167;01mKeyboardInterrupt\u001b[39;00m(msg) \u001b[38;5;28;01mfrom\u001b[39;00m\u001b[38;5;250m \u001b[39m\u001b[38;5;28;01mNone\u001b[39;00m\n\u001b[0;32m   1326\u001b[0m \u001b[38;5;28;01mexcept\u001b[39;00m \u001b[38;5;167;01mException\u001b[39;00m:\n\u001b[0;32m   1327\u001b[0m     \u001b[38;5;28mself\u001b[39m\u001b[38;5;241m.\u001b[39mlog\u001b[38;5;241m.\u001b[39mwarning(\u001b[38;5;124m\"\u001b[39m\u001b[38;5;124mInvalid Message:\u001b[39m\u001b[38;5;124m\"\u001b[39m, exc_info\u001b[38;5;241m=\u001b[39m\u001b[38;5;28;01mTrue\u001b[39;00m)\n",
      "\u001b[1;31mKeyboardInterrupt\u001b[0m: Interrupted by user"
     ]
    }
   ],
   "source": [
    "#Word simulator\n",
    "import random\n",
    "score=0\n",
    "data = ['cat','act','rat','art','tab','bat','net','ten']\n",
    "while True:\n",
    "    for i in range(3):\n",
    "        letters = list(random.choice(data))\n",
    "        genw=\"\".join(letters)\n",
    "        print(genw)\n",
    "        user_word=input(\"if you want to play enter the write word or quit : \")\n",
    "        if user_word==\"quit\":\n",
    "            print(\"Thank You For Playing..\")\n",
    "            break\n",
    "        # for i in range(3):\n",
    "        if user_word!=genw:\n",
    "                \n",
    "            L=True\n",
    "            for letter in user_word:\n",
    "                if letter in letters:\n",
    "                    letters.remove(letter)\n",
    "                else:\n",
    "                    L=False\n",
    "                \n",
    "            if L and user_word in data:\n",
    "                score+=3\n",
    "                print(\"Correct Word\")\n",
    "                print(f\"Your earn {score} score\")\n",
    "            else:\n",
    "                print(\"In-correct Word\")\n",
    "            break\n",
    "        else:\n",
    "            print(\"Smart hhh, you enter same word....i am not giving you score\")\n",
    "    else:\n",
    "        score-=3\n",
    "        print(\"You loose your scores\")\n",
    "                \n",
    "        \n",
    "            \n",
    "            \n",
    "        \n",
    "    \n",
    "\n",
    "\n"
   ]
  },
  {
   "cell_type": "code",
   "execution_count": null,
   "id": "4acf5029-d381-4566-81a8-47b789a52697",
   "metadata": {},
   "outputs": [],
   "source": [
    "\"\"\"\n",
    "      a\n",
    "    b b b\n",
    "  c c c c c\n",
    "d d d d d d d\n",
    "\"\"\""
   ]
  },
  {
   "cell_type": "code",
   "execution_count": 17,
   "id": "f6d13ceb-80fc-4923-bbae-edd3e08256ca",
   "metadata": {},
   "outputs": [
    {
     "name": "stdout",
     "output_type": "stream",
     "text": [
      "      a \n",
      "    a b c \n",
      "  a b c d e \n",
      "a b c d e f g \n"
     ]
    }
   ],
   "source": [
    "row=1\n",
    "while row<=4:\n",
    "    cols=1\n",
    "    while cols<=4-row:\n",
    "        print(\" \",end=\" \")\n",
    "        cols+=1\n",
    "    col=1\n",
    "    while col<(2*row):\n",
    "        print(chr(96+row),end=\" \")\n",
    "        col+=1\n",
    "    row+=1\n",
    "    print()\n",
    "    \n",
    "    "
   ]
  },
  {
   "cell_type": "code",
   "execution_count": null,
   "id": "695a63a7-fd11-4bd0-9455-91bc9dbf35b7",
   "metadata": {},
   "outputs": [],
   "source": []
  },
  {
   "cell_type": "code",
   "execution_count": null,
   "id": "69a5443e-1921-4efa-9561-6f9887ec2a79",
   "metadata": {},
   "outputs": [],
   "source": [
    "\"\"\"\n",
    "      a\n",
    "    a b c\n",
    "  a b c d e\n",
    "a b c d e f g\n",
    "\"\"\""
   ]
  },
  {
   "cell_type": "code",
   "execution_count": null,
   "id": "968802c3-53be-42fb-9a94-a9205a9d7c13",
   "metadata": {},
   "outputs": [],
   "source": [
    "row=1\n",
    "while row<=4:\n",
    "    cols=1\n",
    "    while cols<=4-row:\n",
    "        print(\" \",end=\" \")\n",
    "        cols+=1\n",
    "    col=1\n",
    "    while col<(2*row):\n",
    "        print(chr(96+col),end=\" \")\n",
    "        col+=1\n",
    "    row+=1\n",
    "    print()"
   ]
  }
 ],
 "metadata": {
  "kernelspec": {
   "display_name": "Python 3 (ipykernel)",
   "language": "python",
   "name": "python3"
  },
  "language_info": {
   "codemirror_mode": {
    "name": "ipython",
    "version": 3
   },
   "file_extension": ".py",
   "mimetype": "text/x-python",
   "name": "python",
   "nbconvert_exporter": "python",
   "pygments_lexer": "ipython3",
   "version": "3.11.0"
  }
 },
 "nbformat": 4,
 "nbformat_minor": 5
}
