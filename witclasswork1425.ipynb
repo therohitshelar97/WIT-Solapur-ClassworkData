{
 "cells": [
  {
   "cell_type": "code",
   "execution_count": 6,
   "id": "9fd0f6ef-99da-41a4-8ad7-1b98b09a0ee7",
   "metadata": {},
   "outputs": [
    {
     "name": "stdin",
     "output_type": "stream",
     "text": [
      "May i know yur name sir/mam ? : rohit\n"
     ]
    },
    {
     "name": "stdout",
     "output_type": "stream",
     "text": [
      "Welcome rohit to The Food-Wala \n"
     ]
    },
    {
     "name": "stdin",
     "output_type": "stream",
     "text": [
      "What would you like to order veg or non-veg :  veg\n"
     ]
    },
    {
     "name": "stdout",
     "output_type": "stream",
     "text": [
      "paneer masala=240rs to order press 0\n",
      "paneer tikka malasa= 260rs to order press 1\n"
     ]
    },
    {
     "name": "stdin",
     "output_type": "stream",
     "text": [
      "Enter the value to order food : 1\n"
     ]
    },
    {
     "name": "stdout",
     "output_type": "stream",
     "text": [
      "Your order hass place successfully...\n",
      "paneer tikka malasa= 260rs\n"
     ]
    }
   ],
   "source": [
    "name=input(\"May i know yur name sir/mam ? :\")\n",
    "print(f\"Welcome {name} to The Food-Wala \")\n",
    "food={'veg':[\"paneer masala=240rs\",\"paneer tikka malasa= 260rs\"],\"nonveg\":[\"Chicken tikka = 300rs\",\"chicken Muglai masala=400\"]}\n",
    "sfood = input(\"What would you like to order veg or non-veg : \")\n",
    "c=0\n",
    "for i in food[sfood]:\n",
    "    print(f\"{i} to order press {c}\")\n",
    "    c+=1\n",
    "order=int(input(\"Enter the value to order food :\"))\n",
    "print(\"Your order hass place successfully...\")\n",
    "print(food[sfood][order])"
   ]
  },
  {
   "cell_type": "code",
   "execution_count": 19,
   "id": "d0faacf3-9bf9-4c79-b01a-612c2b0d8cb4",
   "metadata": {},
   "outputs": [
    {
     "name": "stdout",
     "output_type": "stream",
     "text": [
      "This is first function in Python\n",
      "My name is Rohit my age is 45 and i live in Solapur\n",
      "My name is XYZ my age is 66 and i live in Solapur\n",
      "My name is ABC my age is 23 and i live in Solapur\n",
      "<class 'tuple'>\n",
      "<class 'dict'>\n"
     ]
    }
   ],
   "source": [
    "\"\"\"\n",
    "function is an block of code write once an use it multiple times\n",
    "is an block of code\n",
    "to define the function in python\n",
    "\n",
    "def Name():\n",
    "    expression\n",
    "\n",
    "types of user define function\n",
    "simple function\n",
    "function with parameter\n",
    "function with position argument\n",
    "function with keyword argument\n",
    "default paramitrise function\n",
    "arbitratory function function\n",
    "a. variable lenght function\n",
    "b. keyword variable lenght function\n",
    "lamda function\n",
    "recursion function\n",
    "generator function\n",
    "\"\"\"\n",
    "\n",
    "# 1. simple function\n",
    "def Data():\n",
    "    print(\"This is first function in Python\")\n",
    "Data()\n",
    "\n",
    "# 2.function with positional argument/\n",
    "def Data(name,age,city):\n",
    "    print(f\"My name is {name} my age is {age} and i live in {city}\")\n",
    "Data(\"Rohit\",45,\"Solapur\")\n",
    "\n",
    "#3. function with keyword argument\n",
    "def Data(name,age,city):\n",
    "    print(f\"My name is {name} my age is {age} and i live in {city}\")\n",
    "Data(age=66,city=\"Solapur\",name=\"XYZ\")\n",
    "\n",
    "# 4. Default parameter function\n",
    "\n",
    "def Data(name,age,city=\"Solapur\"):\n",
    "    print(f\"My name is {name} my age is {age} and i live in {city}\")\n",
    "Data(\"ABC\",23)\n",
    "\n",
    "# 5. variable lenght function\n",
    "\n",
    "def Add(*a):\n",
    "    print(type(a))\n",
    "Add(1,2,3,4,5,6)\n",
    "\n",
    "# 6. Keyword argument variable lenght function\n",
    "def Add(**a):\n",
    "    print(type(a))\n",
    "Add(a=1,b=2,c=3)\n",
    "\n",
    "\n",
    "\n",
    "\n",
    "\n",
    "\n",
    "\n"
   ]
  },
  {
   "cell_type": "code",
   "execution_count": 22,
   "id": "b9e9d8a1-322c-4a30-9f1e-c518f4c4fcb9",
   "metadata": {},
   "outputs": [
    {
     "name": "stdout",
     "output_type": "stream",
     "text": [
      "10\n"
     ]
    }
   ],
   "source": [
    "def lenght(a):\n",
    "    c=0\n",
    "    for i in a:\n",
    "        c=c+1\n",
    "    return c\n",
    "\n",
    "b = [1,2,3,4,5,6,7,8,9,0]\n",
    "print(lenght(b))"
   ]
  },
  {
   "cell_type": "code",
   "execution_count": 38,
   "id": "8db11be4-802b-4d35-bbaa-29db9994995c",
   "metadata": {},
   "outputs": [
    {
     "name": "stdout",
     "output_type": "stream",
     "text": [
      "Upper function output MY NAME IS KHAN\n",
      "my name is something......9898\n"
     ]
    }
   ],
   "source": [
    "#upper inbuilt method\n",
    "\n",
    "def Upper(a):\n",
    "    s=\"\"\n",
    "    for i in a:\n",
    "        if i!=\" \":\n",
    "            if ord(i)>90:\n",
    "                d=(ord(i)-32)\n",
    "                s=s+(chr(d))\n",
    "            else:\n",
    "                s=s+i\n",
    "            \n",
    "        else:\n",
    "            s=s+\" \"\n",
    "    return s\n",
    "a=\"my NamE is khan\"\n",
    "print(\"Upper function output\",Upper(a))\n",
    "\n",
    "# lower function\n",
    "def lower(a):\n",
    "    s=\"\"\n",
    "    for i in a:\n",
    "        if i!=\" \":\n",
    "            if ord(i)<=90 and ord(i)>=65:\n",
    "                d=(ord(i)+32)\n",
    "                s=s+(chr(d))\n",
    "            else:\n",
    "                s=s+i\n",
    "            \n",
    "        else:\n",
    "            s=s+\" \"\n",
    "    return s\n",
    "a=\"MY NAME IS SOMETHING......9898\"\n",
    "print(lower(a))\n"
   ]
  },
  {
   "cell_type": "code",
   "execution_count": 41,
   "id": "576c17d1-f503-4323-9d8f-859eaeb99e0f",
   "metadata": {},
   "outputs": [
    {
     "name": "stdout",
     "output_type": "stream",
     "text": [
      "1\n",
      "2\n",
      "3\n",
      "4\n",
      "5\n",
      "6\n",
      "7\n",
      "8\n",
      "9\n",
      "10\n"
     ]
    }
   ],
   "source": [
    "#1 to 10 using re cursion\n",
    "\n",
    "def numbers(n):\n",
    "    print(n)\n",
    "    n+=1\n",
    "    if n<=10:\n",
    "        return numbers(n)\n",
    "numbers(1)"
   ]
  },
  {
   "cell_type": "code",
   "execution_count": 44,
   "id": "1638dbbe-2b1f-41c7-adc2-f3eb0c84cf5e",
   "metadata": {},
   "outputs": [
    {
     "name": "stdout",
     "output_type": "stream",
     "text": [
      "1 2 3 4 5 6 7 8 9 10 \n",
      "2 4 6 8 10 12 14 16 18 20 \n",
      "3 6 9 12 15 18 21 24 27 30 \n",
      "4 8 12 16 20 24 28 32 36 40 \n",
      "5 10 15 20 25 30 35 40 45 50 \n",
      "6 12 18 24 30 36 42 48 54 60 \n",
      "7 14 21 28 35 42 49 56 63 70 \n",
      "8 16 24 32 40 48 56 64 72 80 \n",
      "9 18 27 36 45 54 63 72 81 90 \n",
      "10 20 30 40 50 60 70 80 90 100 \n"
     ]
    }
   ],
   "source": [
    "# 1 to 10 tables\n",
    "def outer(n):\n",
    "    def inner(n1):\n",
    "        print(n*n1, end=\" \")\n",
    "        n1+=1\n",
    "        if n1<=10:\n",
    "            return inner(n1)\n",
    "    inner(1)\n",
    "    print()\n",
    "    n+=1\n",
    "    if n<=10:\n",
    "        return outer(n)\n",
    "    \n",
    "outer(1)\n",
    "        "
   ]
  },
  {
   "cell_type": "code",
   "execution_count": 47,
   "id": "ddf87ef8-cdbb-4567-b9a4-81c5a5e5c80a",
   "metadata": {},
   "outputs": [
    {
     "name": "stdout",
     "output_type": "stream",
     "text": [
      "[1, 4, 9, 16, 25]\n"
     ]
    }
   ],
   "source": [
    "def square(a):\n",
    "    for i in range(len(a)):\n",
    "        a[i] = a[i]**2\n",
    "    return a\n",
    "\n",
    "a=[1,2,3,4,5]\n",
    "print(square(a))\n",
    "\n",
    "        "
   ]
  },
  {
   "cell_type": "code",
   "execution_count": 48,
   "id": "8cd86a57-9e25-4deb-acf9-30f6719338f9",
   "metadata": {},
   "outputs": [
    {
     "name": "stdout",
     "output_type": "stream",
     "text": [
      "3\n"
     ]
    }
   ],
   "source": [
    "#lambda function/Ananomouse function\n",
    "# a = lambda parameters : expressions\n",
    "a = lambda a,b : a+b\n",
    "print(a(1,2))"
   ]
  },
  {
   "cell_type": "code",
   "execution_count": 59,
   "id": "c0e03a6f-56ad-4cef-8fd0-fb9e80a5a698",
   "metadata": {},
   "outputs": [
    {
     "name": "stdout",
     "output_type": "stream",
     "text": [
      "aa\n",
      "bb\n",
      "33\n"
     ]
    }
   ],
   "source": [
    "#generator function\n",
    "def Abc():\n",
    "    yield \"aa\"\n",
    "    yield \"bb\"\n",
    "    yield 33\n",
    "a=Abc()\n",
    "print(next(a))\n",
    "print(next(a))\n",
    "print(next(a))"
   ]
  },
  {
   "cell_type": "code",
   "execution_count": null,
   "id": "2f62845c-ecd2-4416-af32-4bbc2e595426",
   "metadata": {},
   "outputs": [],
   "source": []
  },
  {
   "cell_type": "code",
   "execution_count": null,
   "id": "09499a2e-e75a-453b-8c25-447b028f6e6a",
   "metadata": {},
   "outputs": [],
   "source": []
  },
  {
   "cell_type": "code",
   "execution_count": null,
   "id": "de9b0de2-37e9-4e00-803a-9714105033be",
   "metadata": {},
   "outputs": [],
   "source": []
  }
 ],
 "metadata": {
  "kernelspec": {
   "display_name": "Python 3 (ipykernel)",
   "language": "python",
   "name": "python3"
  },
  "language_info": {
   "codemirror_mode": {
    "name": "ipython",
    "version": 3
   },
   "file_extension": ".py",
   "mimetype": "text/x-python",
   "name": "python",
   "nbconvert_exporter": "python",
   "pygments_lexer": "ipython3",
   "version": "3.11.0"
  }
 },
 "nbformat": 4,
 "nbformat_minor": 5
}
