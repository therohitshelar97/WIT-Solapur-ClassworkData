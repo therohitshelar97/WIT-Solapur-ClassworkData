{
 "cells": [
  {
   "cell_type": "code",
   "execution_count": 1,
   "id": "074734da-4e2c-4138-8f76-02f5010718b4",
   "metadata": {},
   "outputs": [
    {
     "name": "stdout",
     "output_type": "stream",
     "text": [
      "This is the first class in oops\n"
     ]
    }
   ],
   "source": [
    "class First:\n",
    "    print(\"This is the first class in oops\")\n",
    "obj = First()"
   ]
  },
  {
   "cell_type": "code",
   "execution_count": 7,
   "id": "9587e0bf-3332-4a5b-b564-e089c6d14006",
   "metadata": {},
   "outputs": [
    {
     "name": "stdout",
     "output_type": "stream",
     "text": [
      "100 creadited in your account total balance is 110\n",
      "50 debited from your account total balance is 60\n",
      "Total available ba;lnace is 60\n"
     ]
    }
   ],
   "source": [
    "#banking\n",
    "class Bank:\n",
    "    def __init__(self,amt):\n",
    "        self.amt=amt\n",
    "        \n",
    "    def deposite(self,depo):\n",
    "        self.amt = self.amt+depo\n",
    "        print(f\"{depo} creadited in your account total balance is {self.amt}\")\n",
    "    def withdraw(self,wid):\n",
    "        self.amt=self.amt-wid\n",
    "        print(f\"{wid} debited from your account total balance is {self.amt}\")\n",
    "    def balance(self):\n",
    "        print(f\"Total available balanace is {self.amt}\")\n",
    "\n",
    "obj = Bank(10)\n",
    "obj.deposite(100)\n",
    "obj.withdraw(50)\n",
    "obj.balance()"
   ]
  },
  {
   "cell_type": "code",
   "execution_count": 28,
   "id": "b2e72ea7-c896-4351-8056-773a27db3a49",
   "metadata": {},
   "outputs": [
    {
     "name": "stdin",
     "output_type": "stream",
     "text": [
      "Enter user  name :  user1\n",
      "Enter the password :  123\n",
      "how much ammount want to widthdraw :  12\n"
     ]
    },
    {
     "name": "stdout",
     "output_type": "stream",
     "text": [
      "12 credited in your account total balance is 32\n",
      "name : xyz\n",
      "amt : 32\n",
      "account : 123456\n",
      "10 debited from your account total balance is -10\n",
      "name : pqr\n",
      "amt : -10\n",
      "account : 3434346\n"
     ]
    }
   ],
   "source": [
    "#banking with credentials\n",
    "class Bank:\n",
    "    def __init__(self):\n",
    "        self.details={'user1':{123:{'name':'xyz','amt':20,'account':123456}},\n",
    "                     'user2':{234:{'name':'pqr','amt':0,'account':3434346}}}\n",
    "    def deposite(self,user,password,depo):\n",
    "        self.details[user][password]['amt'] = (self.details[user][password]['amt'])+depo \n",
    "        a = self.details[user][password]['amt']\n",
    "        \n",
    "        print(f\"{depo} credited in your account total balance is {a}\")\n",
    "        \n",
    "        for i in self.details[user][password]:\n",
    "            print(f\"{i} : {self.details[user][password][i]}\")\n",
    "\n",
    "    def withdraw(self,user,password,wid):\n",
    "        self.details[user][password]['amt'] = (self.details[user][password]['amt'])-wid \n",
    "        a = self.details[user][password]['amt']\n",
    "        \n",
    "        print(f\"{wid} debited from your account total balance is {a}\")\n",
    "        \n",
    "        for i in self.details[user][password]:\n",
    "            print(f\"{i} : {self.details[user][password][i]}\")\n",
    "    \n",
    "\n",
    "obj = Bank()\n",
    "user=input(\"Enter user  name : \")\n",
    "pass1=int(input(\"Enter the password : \"))\n",
    "amount=int(input(\"how much ammount want to deposite : \"))\n",
    "obj.deposite(user,pass1,amount)\n",
    "obj.withdraw('user2',234,10)"
   ]
  },
  {
   "cell_type": "code",
   "execution_count": 34,
   "id": "4df359b4-4f57-40a1-91a8-26d25f9eb577",
   "metadata": {},
   "outputs": [
    {
     "name": "stdout",
     "output_type": "stream",
     "text": [
      "My father gifted me a BMW\n"
     ]
    }
   ],
   "source": [
    "\"\"\"\n",
    "Inheritance\n",
    "parent\n",
    "child\n",
    "\"\"\"\n",
    "class Parent:\n",
    "    def __init__(self,house,car):\n",
    "        self.house = house\n",
    "        self.car = car\n",
    "\n",
    "class Child(Parent):\n",
    "    def cshow(self):\n",
    "        print(f\"My father gifted me a {self.car}\")\n",
    "obj=Child('bunglow','BMW')\n",
    "obj.cshow()"
   ]
  },
  {
   "cell_type": "code",
   "execution_count": 47,
   "id": "b69b7763-2edc-428a-aa79-4fbeb4de3736",
   "metadata": {},
   "outputs": [
    {
     "name": "stdout",
     "output_type": "stream",
     "text": [
      "bunglow\n",
      "bmw\n"
     ]
    }
   ],
   "source": [
    "#constructor in both inherited classes\n",
    "\n",
    "class Parent:\n",
    "    def __init__(self,house):\n",
    "        self.house=house\n",
    "        print(self.house)\n",
    "\n",
    "class Child(Parent):\n",
    "    def __init__(self,house,car):\n",
    "        super().__init__(house)\n",
    "        self.car = car\n",
    "        print(self.car)\n",
    "\n",
    "obj = Child(\"bunglow\",\"bmw\")\n",
    "\n",
    "    "
   ]
  },
  {
   "cell_type": "code",
   "execution_count": null,
   "id": "0548f1b8-0994-4421-9890-27139ea41751",
   "metadata": {},
   "outputs": [],
   "source": [
    "\"\"\"\n",
    "types of inheritance\n",
    "1. single level\n",
    "2. multi level inheritance\n",
    "3. multiple in heritance\n",
    "4. hirarchy\n",
    "5. hybrid\n",
    "\n",
    "\"\"\""
   ]
  },
  {
   "cell_type": "code",
   "execution_count": 50,
   "id": "33e7d257-1d75-4a19-bf3c-9e077c035c55",
   "metadata": {},
   "outputs": [
    {
     "name": "stdout",
     "output_type": "stream",
     "text": [
      "My name is Grandpaa i have child and grand child\n",
      "My father name is Grandpaa and i have a child\n",
      "My grand pa name is Grandpaa and i love him\n"
     ]
    }
   ],
   "source": [
    "class A:\n",
    "    def __init__(self,name):\n",
    "        self.name = name\n",
    "        print(f\"My name is {name} i have child and grand child\")\n",
    "class B(A):\n",
    "    def show1(self):\n",
    "        print(f\"My father name is {self.name} and i have a child\")\n",
    "class C(B):\n",
    "    def show2(self):\n",
    "        print(f\"My grand pa name is {self.name} and i love him\")\n",
    "\n",
    "obj = C(\"Grandpaa\")\n",
    "obj.show1()\n",
    "obj.show2()"
   ]
  },
  {
   "cell_type": "code",
   "execution_count": 53,
   "id": "f5302f92-c6c6-47ca-929c-dfda13c16178",
   "metadata": {},
   "outputs": [
    {
     "name": "stdout",
     "output_type": "stream",
     "text": [
      "class name XYZ\n",
      "college name WIT\n"
     ]
    }
   ],
   "source": [
    "#multiple inheritance\n",
    "class ClassData:\n",
    "    def __init__(self,clsname):\n",
    "        self.clsname = clsname\n",
    "        print(f\"class name {self.clsname}\")\n",
    "\n",
    "class CollegeData:\n",
    "    def __init__(self,clgname):\n",
    "        self.clgname = clgname\n",
    "        print(f\"college name {self.clgname}\")\n",
    "\n",
    "class StudentData(ClassData,CollegeData):\n",
    "    def __init__(self,name,clsname,clgname):\n",
    "        ClassData.__init__(self,clsname)\n",
    "        CollegeData.__init__(self,clgname)\n",
    "\n",
    "obj = StudentData(\"ABC\",\"XYZ\",\"WIT\")\n",
    "        "
   ]
  },
  {
   "cell_type": "code",
   "execution_count": 55,
   "id": "e2209401-ee72-44c7-928f-f5226f9c3e6d",
   "metadata": {},
   "outputs": [
    {
     "name": "stdout",
     "output_type": "stream",
     "text": [
      "Addition of two numbers are 3\n"
     ]
    }
   ],
   "source": [
    "class A:\n",
    "    def __init__(self,a):\n",
    "        self.a = a\n",
    "\n",
    "class B(A):\n",
    "    pass\n",
    "\n",
    "class C(A):\n",
    "    pass\n",
    "\n",
    "class D(A):\n",
    "    def __init__(self,a,b):\n",
    "        super().__init__(a)\n",
    "        print(f\"Addition of two numbers are {self.a+b}\")\n",
    "\n",
    "obj = D(1,2)\n",
    "    "
   ]
  },
  {
   "cell_type": "code",
   "execution_count": 59,
   "id": "6366d454-7e4d-436d-99c4-f211a5131cb6",
   "metadata": {},
   "outputs": [
    {
     "name": "stdout",
     "output_type": "stream",
     "text": [
      "I am student 1\n",
      "I am student 2\n",
      "I am student 3\n",
      "I am a teach to the student1, student2 and student3\n"
     ]
    }
   ],
   "source": [
    "# Hybrid\n",
    "\n",
    "class student1:\n",
    "    def show1(self):\n",
    "        print(\"I am student 1\")\n",
    "\n",
    "class student2(student1):\n",
    "    def show2(self):\n",
    "        print(\"I am student 2\")\n",
    "\n",
    "class student3:\n",
    "    def show3(self):\n",
    "        print(\"I am student 3\")\n",
    "\n",
    "class Teacher(student2,student3):\n",
    "    def show4(self):\n",
    "        print(\"I am a teach to the student1, student2 and student3\")\n",
    "\n",
    "obj = Teacher()\n",
    "obj.show1()\n",
    "obj.show2()\n",
    "obj.show3()\n",
    "obj.show4()"
   ]
  },
  {
   "cell_type": "code",
   "execution_count": null,
   "id": "56e270f3-945d-4328-8009-da2502e6c635",
   "metadata": {},
   "outputs": [],
   "source": [
    "*\n",
    "**\n",
    "***\n",
    "****\n"
   ]
  },
  {
   "cell_type": "code",
   "execution_count": 62,
   "id": "ea0ecae9-a862-4e14-aa89-f97e11351063",
   "metadata": {},
   "outputs": [
    {
     "name": "stdin",
     "output_type": "stream",
     "text": [
      "Enter the mumber:  5\n"
     ]
    },
    {
     "name": "stdout",
     "output_type": "stream",
     "text": [
      "*\n",
      "**\n",
      "***\n",
      "****\n",
      "*****\n"
     ]
    }
   ],
   "source": [
    "n=int(input(\"Enter the mumber: \"))\n",
    "for i in range(1,n+1):\n",
    "      for j in range(1,i+1):\n",
    "          print(\"*\",end=\"\")\n",
    "      print()  "
   ]
  },
  {
   "cell_type": "code",
   "execution_count": 1,
   "id": "a2bb5ab7-64fd-4dc4-803d-7c3805f81ec6",
   "metadata": {},
   "outputs": [
    {
     "name": "stdout",
     "output_type": "stream",
     "text": [
      "['Rohit', 'Sanket', 'ram', 'Krishna', 'Vithal']\n",
      "Choice To above one to get rewad \n"
     ]
    },
    {
     "name": "stdin",
     "output_type": "stream",
     "text": [
      "Enter the your choice  ram\n"
     ]
    },
    {
     "name": "stdout",
     "output_type": "stream",
     "text": [
      "Your lossed -10  points \n"
     ]
    },
    {
     "name": "stdin",
     "output_type": "stream",
     "text": [
      "Enter the your choice  krishna\n"
     ]
    },
    {
     "name": "stdout",
     "output_type": "stream",
     "text": [
      "Your lossed -20  points \n"
     ]
    },
    {
     "name": "stdin",
     "output_type": "stream",
     "text": [
      "Enter the your choice  Sanket\n"
     ]
    },
    {
     "name": "stdout",
     "output_type": "stream",
     "text": [
      "Your lossed -30  points \n"
     ]
    },
    {
     "name": "stdin",
     "output_type": "stream",
     "text": [
      "Enter the your choice  ram\n"
     ]
    },
    {
     "name": "stdout",
     "output_type": "stream",
     "text": [
      "Your lossed -40  points \n"
     ]
    },
    {
     "name": "stdin",
     "output_type": "stream",
     "text": [
      "Enter the your choice  ram\n"
     ]
    },
    {
     "name": "stdout",
     "output_type": "stream",
     "text": [
      "Your lossed -50  points \n"
     ]
    },
    {
     "ename": "KeyboardInterrupt",
     "evalue": "Interrupted by user",
     "output_type": "error",
     "traceback": [
      "\u001b[1;31m---------------------------------------------------------------------------\u001b[0m",
      "\u001b[1;31mKeyboardInterrupt\u001b[0m                         Traceback (most recent call last)",
      "Cell \u001b[1;32mIn[1], line 8\u001b[0m\n\u001b[0;32m      6\u001b[0m \u001b[38;5;28mprint\u001b[39m(\u001b[38;5;124m\"\u001b[39m\u001b[38;5;124mChoice To above one to get rewad \u001b[39m\u001b[38;5;124m\"\u001b[39m)\n\u001b[0;32m      7\u001b[0m \u001b[38;5;28;01mfor\u001b[39;00m i \u001b[38;5;129;01min\u001b[39;00m \u001b[38;5;28mrange\u001b[39m(\u001b[38;5;241m1\u001b[39m,\u001b[38;5;241m100\u001b[39m):\n\u001b[1;32m----> 8\u001b[0m      n\u001b[38;5;241m=\u001b[39m\u001b[38;5;28;43minput\u001b[39;49m\u001b[43m(\u001b[49m\u001b[38;5;124;43m\"\u001b[39;49m\u001b[38;5;124;43mEnter the your choice \u001b[39;49m\u001b[38;5;124;43m\"\u001b[39;49m\u001b[43m)\u001b[49m\n\u001b[0;32m      9\u001b[0m      \u001b[38;5;28;01mif\u001b[39;00m random\u001b[38;5;241m.\u001b[39mchoice(a)\u001b[38;5;241m==\u001b[39mn:\n\u001b[0;32m     10\u001b[0m          sum1\u001b[38;5;241m=\u001b[39msum1\u001b[38;5;241m+\u001b[39m\u001b[38;5;241m10\u001b[39m\n",
      "File \u001b[1;32m~\\AppData\\Local\\Programs\\Python\\Python311\\Lib\\site-packages\\ipykernel\\kernelbase.py:1282\u001b[0m, in \u001b[0;36mKernel.raw_input\u001b[1;34m(self, prompt)\u001b[0m\n\u001b[0;32m   1280\u001b[0m     msg \u001b[38;5;241m=\u001b[39m \u001b[38;5;124m\"\u001b[39m\u001b[38;5;124mraw_input was called, but this frontend does not support input requests.\u001b[39m\u001b[38;5;124m\"\u001b[39m\n\u001b[0;32m   1281\u001b[0m     \u001b[38;5;28;01mraise\u001b[39;00m StdinNotImplementedError(msg)\n\u001b[1;32m-> 1282\u001b[0m \u001b[38;5;28;01mreturn\u001b[39;00m \u001b[38;5;28;43mself\u001b[39;49m\u001b[38;5;241;43m.\u001b[39;49m\u001b[43m_input_request\u001b[49m\u001b[43m(\u001b[49m\n\u001b[0;32m   1283\u001b[0m \u001b[43m    \u001b[49m\u001b[38;5;28;43mstr\u001b[39;49m\u001b[43m(\u001b[49m\u001b[43mprompt\u001b[49m\u001b[43m)\u001b[49m\u001b[43m,\u001b[49m\n\u001b[0;32m   1284\u001b[0m \u001b[43m    \u001b[49m\u001b[38;5;28;43mself\u001b[39;49m\u001b[38;5;241;43m.\u001b[39;49m\u001b[43m_parent_ident\u001b[49m\u001b[43m[\u001b[49m\u001b[38;5;124;43m\"\u001b[39;49m\u001b[38;5;124;43mshell\u001b[39;49m\u001b[38;5;124;43m\"\u001b[39;49m\u001b[43m]\u001b[49m\u001b[43m,\u001b[49m\n\u001b[0;32m   1285\u001b[0m \u001b[43m    \u001b[49m\u001b[38;5;28;43mself\u001b[39;49m\u001b[38;5;241;43m.\u001b[39;49m\u001b[43mget_parent\u001b[49m\u001b[43m(\u001b[49m\u001b[38;5;124;43m\"\u001b[39;49m\u001b[38;5;124;43mshell\u001b[39;49m\u001b[38;5;124;43m\"\u001b[39;49m\u001b[43m)\u001b[49m\u001b[43m,\u001b[49m\n\u001b[0;32m   1286\u001b[0m \u001b[43m    \u001b[49m\u001b[43mpassword\u001b[49m\u001b[38;5;241;43m=\u001b[39;49m\u001b[38;5;28;43;01mFalse\u001b[39;49;00m\u001b[43m,\u001b[49m\n\u001b[0;32m   1287\u001b[0m \u001b[43m\u001b[49m\u001b[43m)\u001b[49m\n",
      "File \u001b[1;32m~\\AppData\\Local\\Programs\\Python\\Python311\\Lib\\site-packages\\ipykernel\\kernelbase.py:1325\u001b[0m, in \u001b[0;36mKernel._input_request\u001b[1;34m(self, prompt, ident, parent, password)\u001b[0m\n\u001b[0;32m   1322\u001b[0m \u001b[38;5;28;01mexcept\u001b[39;00m \u001b[38;5;167;01mKeyboardInterrupt\u001b[39;00m:\n\u001b[0;32m   1323\u001b[0m     \u001b[38;5;66;03m# re-raise KeyboardInterrupt, to truncate traceback\u001b[39;00m\n\u001b[0;32m   1324\u001b[0m     msg \u001b[38;5;241m=\u001b[39m \u001b[38;5;124m\"\u001b[39m\u001b[38;5;124mInterrupted by user\u001b[39m\u001b[38;5;124m\"\u001b[39m\n\u001b[1;32m-> 1325\u001b[0m     \u001b[38;5;28;01mraise\u001b[39;00m \u001b[38;5;167;01mKeyboardInterrupt\u001b[39;00m(msg) \u001b[38;5;28;01mfrom\u001b[39;00m\u001b[38;5;250m \u001b[39m\u001b[38;5;28;01mNone\u001b[39;00m\n\u001b[0;32m   1326\u001b[0m \u001b[38;5;28;01mexcept\u001b[39;00m \u001b[38;5;167;01mException\u001b[39;00m:\n\u001b[0;32m   1327\u001b[0m     \u001b[38;5;28mself\u001b[39m\u001b[38;5;241m.\u001b[39mlog\u001b[38;5;241m.\u001b[39mwarning(\u001b[38;5;124m\"\u001b[39m\u001b[38;5;124mInvalid Message:\u001b[39m\u001b[38;5;124m\"\u001b[39m, exc_info\u001b[38;5;241m=\u001b[39m\u001b[38;5;28;01mTrue\u001b[39;00m)\n",
      "\u001b[1;31mKeyboardInterrupt\u001b[0m: Interrupted by user"
     ]
    }
   ],
   "source": [
    "\"\"\"Random choice of the name\"\"\"\n",
    "import random\n",
    "a=['Rohit','Sanket','ram','Krishna','Vithal']\n",
    "sum1=0\n",
    "print(a)\n",
    "print(\"Choice To above one to get rewad \")\n",
    "for i in range(1,100):\n",
    "     n=input(\"Enter the your choice \")\n",
    "     if random.choice(a)==n:\n",
    "         sum1=sum1+10\n",
    "         print(f\"Your getted {sum1} points reward \")\n",
    "     else:\n",
    "         sum1=sum1-10\n",
    "         print(f\"Your lossed {sum1}  points \")\n",
    "        \n"
   ]
  },
  {
   "cell_type": "code",
   "execution_count": null,
   "id": "fff862fc-0265-4e3c-8ff6-6c570d9d95a4",
   "metadata": {},
   "outputs": [],
   "source": [
    "#Map\n",
    "b=list(map(lambda x:x**3,[1,2,3,4]))\n",
    "print(b)"
   ]
  },
  {
   "cell_type": "code",
   "execution_count": 3,
   "id": "c48148a3-092d-4859-a90a-301f97afd22f",
   "metadata": {},
   "outputs": [
    {
     "name": "stdin",
     "output_type": "stream",
     "text": [
      " Enter numbers using space:  9 3 6 2 7 1\n"
     ]
    },
    {
     "name": "stdout",
     "output_type": "stream",
     "text": [
      "[1, 2, 3, 6, 7, 9]\n"
     ]
    }
   ],
   "source": [
    "a=list(map(int, input(\" Enter numbers using space: \").split()))\n",
    "\n",
    "for i in range(len(a)):\n",
    "    for j in range(len(a)):\n",
    "        if a[i] <= a[j]:\n",
    "            temp = a[i]\n",
    "            a[i] = a[j]\n",
    "            a[j] = temp\n",
    "print(a)"
   ]
  },
  {
   "cell_type": "code",
   "execution_count": 4,
   "id": "7442f13c-b0f7-4dac-baec-0136112cbdbd",
   "metadata": {},
   "outputs": [
    {
     "name": "stdout",
     "output_type": "stream",
     "text": [
      "Bank 1 amount:100\n",
      "Bank 1 amount:200\n",
      "Total Amount You have 300\n"
     ]
    }
   ],
   "source": [
    "class Bank1:\n",
    "    def __init__(self,B1amt):\n",
    "        self.B1amt = B1amt\n",
    "        print(f\"Bank 1 amount:{self.B1amt}\")\n",
    "\n",
    "class Bank2:\n",
    "    def __init__(self,B2amt):\n",
    "        self.B2amt = B2amt\n",
    "        print(f\"Bank 2 amount:{self.B2amt}\")\n",
    "\n",
    "class Balance(Bank1, Bank2):\n",
    "    def __init__(self,B1amt,B2amt):\n",
    "        Bank1.__init__(self,B1amt)\n",
    "        Bank2.__init__(self,B2amt)\n",
    "        print(f\"Total Amount You have {self.B1amt + self.B2amt}\")\n",
    "\n",
    "obj = Balance(100,200)"
   ]
  },
  {
   "cell_type": "markdown",
   "id": "f52bded2-6ae9-41eb-be09-c726ee8e25b3",
   "metadata": {},
   "source": [
    "class ListX:\n",
    "\n",
    "    def Accept(self,list,iCount):\n",
    "        for i in range(0,iCount):\n",
    "            A = int(input())\n",
    "            list.appent(A)\n",
    "\n",
    "    def Average(self,list):\n",
    "        iSum=0\n",
    "        for i in range(0,len(list)):\n",
    "            iSum=iSum+list[i]\n",
    "\n",
    "        return float(iSum)/float(len(lis))\n",
    "\n",
    "def main():\n",
    "    list = []\n",
    "    iCount = int(input(\"Enter the number of element you want to store: \"))\n",
    "    obj = ListX()\n",
    "    obj.Accept(list,iCount)\n",
    "    iret = obj.Average(list)\n",
    "    print(\"Average is: \",iret)\n",
    "\n",
    "if __name__ == \"__main__\":\n",
    "    main()"
   ]
  },
  {
   "cell_type": "markdown",
   "id": "b0ca973d-2c74-48fb-8c58-ec5c4f5b3a6c",
   "metadata": {},
   "source": [
    "class ListX:\n",
    "\n",
    "    def Accept(self,list,iCount):\n",
    "        for i in range(0,iCount):\n",
    "            A = int(input())\n",
    "            list.appent(A)\n",
    "\n",
    "    def Average(self,list):\n",
    "        iSum=0\n",
    "        for i in range(0,len(list)):\n",
    "            iSum=iSum+list[i]\n",
    "\n",
    "        return float(iSum)/float(len(lis))\n",
    "\n",
    "def main():\n",
    "    list = []\n",
    "    iCount = int(input(\"Enter the number of element you want to store: \"))\n",
    "    obj = ListX()\n",
    "    obj.Accept(list,iCount)\n",
    "    iret = obj.Average(list)\n",
    "    print(\"Average is: \",iret)\n",
    "\n",
    "if __name__ == \"__main__\":\n",
    "    main()"
   ]
  },
  {
   "cell_type": "code",
   "execution_count": 9,
   "id": "b414cf77-5e17-4618-8f47-09e0b7f703e9",
   "metadata": {},
   "outputs": [
    {
     "name": "stdin",
     "output_type": "stream",
     "text": [
      "Enter the number of element you want to store:  5\n",
      " 1\n",
      " 2\n",
      " 3\n",
      " 4\n",
      " 5\n"
     ]
    },
    {
     "name": "stdout",
     "output_type": "stream",
     "text": [
      "Average is:  3.0\n"
     ]
    }
   ],
   "source": [
    "class ListX:\n",
    "\n",
    "    def Accept(self,list,iCount):\n",
    "        for i in range(0,iCount):\n",
    "            A = int(input())\n",
    "            list.append(A)\n",
    "\n",
    "    def Average(self,list):\n",
    "        iSum=0\n",
    "        for i in range(0,len(list)):\n",
    "            iSum=iSum+list[i]\n",
    "\n",
    "        return float(iSum)/float(len(list))\n",
    "\n",
    "def main():\n",
    "    list = []\n",
    "    iCount = int(input(\"Enter the number of element you want to store: \"))\n",
    "    obj = ListX()\n",
    "    obj.Accept(list,iCount)\n",
    "    iret = obj.Average(list)\n",
    "    print(\"Average is: \",iret)\n",
    "\n",
    "if __name__ == \"__main__\":\n",
    "    main()"
   ]
  },
  {
   "cell_type": "code",
   "execution_count": 10,
   "id": "de4616e3-2fcd-437b-bdaa-d75a19e937f9",
   "metadata": {},
   "outputs": [
    {
     "name": "stdin",
     "output_type": "stream",
     "text": [
      "Enter a number:  5\n"
     ]
    },
    {
     "name": "stdout",
     "output_type": "stream",
     "text": [
      "The Factorial of 5 in 120\n"
     ]
    }
   ],
   "source": [
    "def facto(n):\n",
    "    fact=1\n",
    "    for i in range(1,n+1):\n",
    "        fact*=i\n",
    "    return fact\n",
    "num=int(input(\"Enter a number: \"))\n",
    "print(f\"The Factorial of {num} in {facto(num)}\")\n",
    "    "
   ]
  },
  {
   "cell_type": "code",
   "execution_count": 13,
   "id": "2688ef86-857c-4dfe-b844-cb5f0d356449",
   "metadata": {},
   "outputs": [
    {
     "name": "stdout",
     "output_type": "stream",
     "text": [
      "16.0\n"
     ]
    }
   ],
   "source": [
    "arr=[1,4,9,25,36]\n",
    "def find_missing(arr):\n",
    "    n=len(arr)+1\n",
    "    actual_sum=(n*(n+1)*(2*n+1))/6\n",
    "    sum=0\n",
    "    for i in range(len(arr)):\n",
    "        sum+=arr[i]\n",
    "    return actual_sum-sum\n",
    "missing_num=find_missing(arr)\n",
    "print(missing_num)"
   ]
  },
  {
   "cell_type": "code",
   "execution_count": 15,
   "id": "802fb6ec-2778-4a6f-a167-39023bc055f3",
   "metadata": {},
   "outputs": [
    {
     "name": "stdout",
     "output_type": "stream",
     "text": [
      "composite number\n"
     ]
    }
   ],
   "source": [
    "import math\n",
    "def prime(num):\n",
    "    for i in range(2,int(math.sqrt(num)+1)):\n",
    "        if num % i ==0:\n",
    "            print(\"composite number\")\n",
    "            return \n",
    "    print(\"prime number\")\n",
    "prime(6)        "
   ]
  },
  {
   "cell_type": "code",
   "execution_count": 1,
   "id": "075150b6-f48c-485a-af24-78140e028c56",
   "metadata": {},
   "outputs": [
    {
     "name": "stdin",
     "output_type": "stream",
     "text": [
      "enter the number 9\n"
     ]
    },
    {
     "name": "stdout",
     "output_type": "stream",
     "text": [
      "the number is neon number\n"
     ]
    }
   ],
   "source": [
    "n=int(input(\"enter the number\"))\n",
    "sq=n*n\n",
    "sum=0\n",
    "org=n\n",
    "while sq>0:\n",
    "    d=sq%10\n",
    "    sum=sum+d\n",
    "    sq=sq//10\n",
    "if sum==org:\n",
    "    print(\"the number is neon number\")\n",
    "else:\n",
    "    print(\"the number is not a neon number\")\n",
    "    "
   ]
  },
  {
   "cell_type": "code",
   "execution_count": 5,
   "id": "16200285-30ff-4d25-882d-4a6da5c46e20",
   "metadata": {},
   "outputs": [
    {
     "ename": "TypeError",
     "evalue": "'int' object is not callable",
     "output_type": "error",
     "traceback": [
      "\u001b[1;31m---------------------------------------------------------------------------\u001b[0m",
      "\u001b[1;31mTypeError\u001b[0m                                 Traceback (most recent call last)",
      "Cell \u001b[1;32mIn[5], line 13\u001b[0m\n\u001b[0;32m     10\u001b[0m             count \u001b[38;5;241m=\u001b[39m \u001b[38;5;241m0\u001b[39m\n\u001b[0;32m     11\u001b[0m     \u001b[38;5;28;01mreturn\u001b[39;00m \u001b[38;5;28mmax\u001b[39m(ans,count)\n\u001b[1;32m---> 13\u001b[0m maxi\u001b[38;5;241m=\u001b[39m\u001b[43mcount_one\u001b[49m\u001b[43m(\u001b[49m\u001b[43mnums\u001b[49m\u001b[43m)\u001b[49m\n\u001b[0;32m     14\u001b[0m \u001b[38;5;28mprint\u001b[39m(maxi)\n",
      "Cell \u001b[1;32mIn[5], line 9\u001b[0m, in \u001b[0;36mcount_one\u001b[1;34m(nums)\u001b[0m\n\u001b[0;32m      7\u001b[0m         count\u001b[38;5;241m=\u001b[39mcount\u001b[38;5;241m+\u001b[39m\u001b[38;5;241m1\u001b[39m\n\u001b[0;32m      8\u001b[0m     \u001b[38;5;28;01melse\u001b[39;00m:\n\u001b[1;32m----> 9\u001b[0m         ans \u001b[38;5;241m=\u001b[39m \u001b[38;5;28;43mmax\u001b[39;49m\u001b[43m(\u001b[49m\u001b[43mans\u001b[49m\u001b[43m,\u001b[49m\u001b[43mcount\u001b[49m\u001b[43m)\u001b[49m\n\u001b[0;32m     10\u001b[0m         count \u001b[38;5;241m=\u001b[39m \u001b[38;5;241m0\u001b[39m\n\u001b[0;32m     11\u001b[0m \u001b[38;5;28;01mreturn\u001b[39;00m \u001b[38;5;28mmax\u001b[39m(ans,count)\n",
      "\u001b[1;31mTypeError\u001b[0m: 'int' object is not callable"
     ]
    }
   ],
   "source": [
    "nums=[1,1,1,0,0,5,1,1,1,1,1]\n",
    "def count_one(nums):\n",
    "    count=0\n",
    "    ans=0\n",
    "    for i in nums:\n",
    "        if i == 1:\n",
    "            count=count+1\n",
    "        else:\n",
    "            ans = max(ans,count)\n",
    "            count = 0\n",
    "    return max(ans,count)\n",
    "\n",
    "maxi=count_one(nums)\n",
    "print(maxi)"
   ]
  },
  {
   "cell_type": "code",
   "execution_count": 7,
   "id": "11b5ec28-34de-47c6-8ed6-9c8e6871860c",
   "metadata": {},
   "outputs": [
    {
     "name": "stdout",
     "output_type": "stream",
     "text": [
      "element not found\n"
     ]
    }
   ],
   "source": [
    "#linear search\n",
    "def search(arr,target):\n",
    "    for i in range(len(arr)):\n",
    "        if arr[i]==target:\n",
    "            print(f\"element is found at {i} index\")\n",
    "            return\n",
    "    print(\"element not found\")\n",
    "    return\n",
    "\n",
    "arr=[10,50,30,40,70]\n",
    "target=100\n",
    "search(arr,target)"
   ]
  },
  {
   "cell_type": "code",
   "execution_count": 9,
   "id": "934e4510-ccf4-4fb6-aa1f-6d181c4c71f4",
   "metadata": {},
   "outputs": [
    {
     "name": "stdout",
     "output_type": "stream",
     "text": [
      "2 is second smallest number\n"
     ]
    }
   ],
   "source": [
    "a = [1,34,5,3,2,343,23]\n",
    "sm = float('inf')\n",
    "ssm = float('inf')\n",
    "for i in a:\n",
    "    if i < sm:\n",
    "        ssm = sm\n",
    "        sm = i\n",
    "    elif sm < i <ssm:\n",
    "        ssm = i\n",
    "if ssm == float('inf'):\n",
    "    print(\"no second smallest number found\")\n",
    "else:\n",
    "    print(f\"{ssm} is second smallest number\")"
   ]
  },
  {
   "cell_type": "code",
   "execution_count": null,
   "id": "8f03837b-036e-4978-ab67-b92425972e98",
   "metadata": {},
   "outputs": [],
   "source": [
    "   *\n",
    "  ***\n",
    " *****"
   ]
  },
  {
   "cell_type": "code",
   "execution_count": 11,
   "id": "1d36cf73-43cb-4fa3-965c-ebaf2fe538eb",
   "metadata": {},
   "outputs": [
    {
     "name": "stdin",
     "output_type": "stream",
     "text": [
      "Enter the number:  7\n"
     ]
    },
    {
     "name": "stdout",
     "output_type": "stream",
     "text": [
      "      *\n",
      "     ***\n",
      "    *****\n",
      "   *******\n",
      "  *********\n",
      " ***********\n",
      "*************\n"
     ]
    }
   ],
   "source": [
    "def full_pyramid(n):\n",
    "    #traversal\n",
    "    for row in range(1,n+1):\n",
    "        #space printing;\n",
    "        for col in range(n-row):\n",
    "            print(\" \",end=\"\")\n",
    "        #pattern printing:\n",
    "        for cols in range(1,2*row):\n",
    "            print(\"*\",end=\"\")\n",
    "        print()\n",
    "\n",
    "full_pyramid(int(input(\"Enter the number: \")))"
   ]
  },
  {
   "cell_type": "code",
   "execution_count": 13,
   "id": "1b719563-c777-4433-bea1-a3ebe5c20bad",
   "metadata": {},
   "outputs": [
    {
     "name": "stdin",
     "output_type": "stream",
     "text": [
      "Enter num:  56\n"
     ]
    },
    {
     "name": "stdout",
     "output_type": "stream",
     "text": [
      "Not a krishnamurthy no.\n"
     ]
    }
   ],
   "source": [
    "n=int(input(\"Enter num: \"))\n",
    "org=n\n",
    "sum=0\n",
    "while n>0:\n",
    "    rem=n%10\n",
    "    f=1\n",
    "    for i in range(1,rem+1):\n",
    "        f=f*i\n",
    "    sum=sum+f\n",
    "    n=n//10\n",
    "if sum==org:\n",
    "    print(\"Krishnamurthy no.\")\n",
    "else:\n",
    "    print(\"Not a krishnamurthy no.\")"
   ]
  },
  {
   "cell_type": "code",
   "execution_count": 16,
   "id": "5f03baf1-232c-448b-9956-8f924cf537d4",
   "metadata": {},
   "outputs": [
    {
     "data": {
      "text/plain": [
       "[1, 2]"
      ]
     },
     "execution_count": 16,
     "metadata": {},
     "output_type": "execute_result"
    }
   ],
   "source": [
    "num=[1,2,5,9,11,15]\n",
    "target=7  #output=[1,2]\n",
    "\n",
    "def sum(num,target):\n",
    "    for i in range(len(num)):\n",
    "        for j in range(i+1,len(num)):\n",
    "            if num[i]+num[j]==target:\n",
    "                return [i,j]\n",
    "sum(num,target)                \n"
   ]
  },
  {
   "cell_type": "code",
   "execution_count": 17,
   "id": "c25e91f3-df4c-4c90-a542-530c5c4121d1",
   "metadata": {},
   "outputs": [
    {
     "name": "stdin",
     "output_type": "stream",
     "text": [
      "Enter a number 10\n"
     ]
    },
    {
     "name": "stdout",
     "output_type": "stream",
     "text": [
      "jadui number\n"
     ]
    }
   ],
   "source": [
    "def sum(n):\n",
    "    total = 0\n",
    "    while n>0:\n",
    "        total = total+n%10\n",
    "        n=n//10\n",
    "    return total\n",
    "def magic(num):\n",
    "    while num>=10:\n",
    "        num=sum(num)\n",
    "    return num ==1 \n",
    "x = int(input(\"Enter a number\"))\n",
    "if magic(x):\n",
    "    print(\"jadui number\")\n",
    "else:\n",
    "    print(\"not jadui\")\n",
    "    \n",
    "    "
   ]
  },
  {
   "cell_type": "code",
   "execution_count": 19,
   "id": "b14c47fc-7a4f-4231-8b36-ee6a7fc55c2c",
   "metadata": {},
   "outputs": [
    {
     "name": "stdout",
     "output_type": "stream",
     "text": [
      "5 6\n"
     ]
    }
   ],
   "source": [
    "a=6\n",
    "b=5\n",
    "temp=a\n",
    "a=b\n",
    "b=temp\n",
    "\n",
    "print(a,b)\n"
   ]
  },
  {
   "cell_type": "code",
   "execution_count": 20,
   "id": "adcfee5e-d9ae-47e8-9df2-14c1b8b57580",
   "metadata": {},
   "outputs": [
    {
     "name": "stdout",
     "output_type": "stream",
     "text": [
      "5 6\n"
     ]
    }
   ],
   "source": [
    "a=6\n",
    "b=5\n",
    "\n",
    "a=a+b\n",
    "b=a-b\n",
    "a=a-b\n",
    "\n",
    "print(a,b)"
   ]
  },
  {
   "cell_type": "code",
   "execution_count": 21,
   "id": "69b5b6d6-9622-4f1a-9f51-3a3c68d79afd",
   "metadata": {},
   "outputs": [
    {
     "name": "stdin",
     "output_type": "stream",
     "text": [
      "Enter the number:  5\n"
     ]
    },
    {
     "name": "stdout",
     "output_type": "stream",
     "text": [
      "number is prime\n"
     ]
    }
   ],
   "source": [
    "num = int(input(\"Enter the number: \"))\n",
    "if num > 1:\n",
    "    for i in range(2,num):\n",
    "        if num % i == 0:\n",
    "            print(\"number is not prime\")\n",
    "            break\n",
    "    else:\n",
    "        print(\"number is prime\")\n",
    "else:\n",
    "        print(\"number is not prime\")"
   ]
  },
  {
   "cell_type": "code",
   "execution_count": 22,
   "id": "016b8a55-bdae-4d8c-9f4e-0036727a3403",
   "metadata": {},
   "outputs": [
    {
     "name": "stdout",
     "output_type": "stream",
     "text": [
      "*        *\n",
      "**      **\n",
      "***    ***\n",
      "****  ****\n",
      "**********\n",
      "**********\n",
      "****  ****\n",
      "***    ***\n",
      "**      **\n",
      "*        *\n"
     ]
    }
   ],
   "source": [
    "n=5\n",
    "for i in range(1,n+1):\n",
    "    print(\"*\"*i+\" \"*(2*(n-i))+\"*\"*i)\n",
    "for i in range(n,0,-1):\n",
    "    print(\"*\"*i+\" \"*(2*(n-i))+\"*\"*i)\n",
    "    \n",
    "    "
   ]
  },
  {
   "cell_type": "code",
   "execution_count": 23,
   "id": "62443b98-2920-427a-ba4f-82406194a32a",
   "metadata": {},
   "outputs": [
    {
     "name": "stdout",
     "output_type": "stream",
     "text": [
      " The Solution are (-3+0j) and (-2+0j)\n"
     ]
    }
   ],
   "source": [
    "import cmath\n",
    "a=1\n",
    "b=5\n",
    "c=6\n",
    "d=(b**2)-(4*a*c)\n",
    "\n",
    "sol1=(-b-cmath.sqrt(d))/(2*a)\n",
    "sol2=(-b+cmath.sqrt(d))/(2*a)\n",
    "\n",
    "print(f\" The Solution are {sol1} and {sol2}\")"
   ]
  },
  {
   "cell_type": "code",
   "execution_count": null,
   "id": "c44ce308-a46c-4cc1-bdf0-f410292884cf",
   "metadata": {},
   "outputs": [],
   "source": []
  }
 ],
 "metadata": {
  "kernelspec": {
   "display_name": "Python 3 (ipykernel)",
   "language": "python",
   "name": "python3"
  },
  "language_info": {
   "codemirror_mode": {
    "name": "ipython",
    "version": 3
   },
   "file_extension": ".py",
   "mimetype": "text/x-python",
   "name": "python",
   "nbconvert_exporter": "python",
   "pygments_lexer": "ipython3",
   "version": "3.11.0"
  }
 },
 "nbformat": 4,
 "nbformat_minor": 5
}
