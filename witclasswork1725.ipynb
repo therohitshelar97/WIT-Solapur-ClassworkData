{
 "cells": [
  {
   "cell_type": "code",
   "execution_count": 9,
   "id": "4b89b2bf-0e17-4d0f-b0f7-caac2250567a",
   "metadata": {},
   "outputs": [
    {
     "name": "stdout",
     "output_type": "stream",
     "text": [
      "12\n",
      "ABC\n",
      "ABC\n",
      "XYZ\n",
      "PQR\n",
      "outside of this class PQR\n"
     ]
    }
   ],
   "source": [
    "#encapsulation\n",
    "#private __\n",
    "#protected _\n",
    "\n",
    "#private variables\n",
    "class Data:\n",
    "    def __init__(self,__amt):\n",
    "        self.__amt = __amt\n",
    "        print(self.__amt)\n",
    "\n",
    "obj = Data(12)\n",
    "# print(obj.__amt)\n",
    "\n",
    "#public variable'\n",
    "class Data1:\n",
    "    def __init__(self,name):\n",
    "        self.name = name\n",
    "        print(self.name)\n",
    "\n",
    "obj = Data1(\"ABC\")\n",
    "print(obj.name)\n",
    "obj.name=\"XYZ\"\n",
    "print(obj.name)\n",
    "\n",
    "#protected\n",
    "class Data2:\n",
    "    def __init__(self,_name):\n",
    "        self._name = _name\n",
    "        print(self._name)\n",
    "\n",
    "obj = Data2(\"PQR\")\n",
    "print(\"outside of this class\",obj._name)\n",
    "\n",
    "\n",
    "\n",
    "\n",
    "    "
   ]
  },
  {
   "cell_type": "code",
   "execution_count": 11,
   "id": "f2701139-59a4-4b40-b3fa-7e9dda337352",
   "metadata": {},
   "outputs": [
    {
     "name": "stdout",
     "output_type": "stream",
     "text": [
      "30\n"
     ]
    }
   ],
   "source": [
    "#private with inheritance\n",
    "class A:\n",
    "    def __init__(self,__amt):\n",
    "        self.__amt = __amt\n",
    "    def show1(self):\n",
    "        print(self.__amt)\n",
    "\n",
    "class B(A):\n",
    "    def show(self):\n",
    "        print(self.__amt)\n",
    "\n",
    "obj = B(30)\n",
    "obj.show1()"
   ]
  },
  {
   "cell_type": "code",
   "execution_count": 13,
   "id": "3cd5a285-2a2a-4bb2-8b3c-bdea9f8e87cc",
   "metadata": {},
   "outputs": [
    {
     "name": "stdout",
     "output_type": "stream",
     "text": [
      "20\n"
     ]
    }
   ],
   "source": [
    "#accessing private variable ouside of the class\n",
    "class A:\n",
    "    def __init__(self,__amt):\n",
    "        self.__amt = __amt\n",
    "\n",
    "obj = A(20)\n",
    "print(obj._A__amt)\n"
   ]
  },
  {
   "cell_type": "code",
   "execution_count": 17,
   "id": "98538ed8-fcda-4f13-a1cb-6264fab3d68b",
   "metadata": {},
   "outputs": [
    {
     "name": "stdout",
     "output_type": "stream",
     "text": [
      "This is a private method...\n",
      "Private\n"
     ]
    }
   ],
   "source": [
    "#private method\n",
    "\n",
    "class A:\n",
    "    def __init__(self,name):\n",
    "        self.name = name\n",
    "        print(self.name)\n",
    "    def __show():\n",
    "        print(\"This is a private method...\")\n",
    "    __show()\n",
    "\n",
    "obj = A(\"Private\")\n",
    "# obj.show()"
   ]
  },
  {
   "cell_type": "code",
   "execution_count": 19,
   "id": "4eb399ea-ac97-40a0-b980-8adfe02b377b",
   "metadata": {},
   "outputs": [
    {
     "name": "stdout",
     "output_type": "stream",
     "text": [
      "Working\n",
      "This is a private method\n"
     ]
    }
   ],
   "source": [
    "class A:\n",
    "    def __show(self):\n",
    "        print(\"This is a private method\")\n",
    "\n",
    "    def call(self):\n",
    "        print(\"Calling another method into this method\")\n",
    "        self.__show()\n",
    "        \n",
    "obj = A()\n",
    "obj.call()"
   ]
  },
  {
   "cell_type": "code",
   "execution_count": 20,
   "id": "47cb6bd9-d5fa-4650-8037-3b8503db3945",
   "metadata": {},
   "outputs": [
    {
     "name": "stdout",
     "output_type": "stream",
     "text": [
      "Private method calling to the out side\n"
     ]
    }
   ],
   "source": [
    "class A:\n",
    "    def __show(self):\n",
    "        print(\"Private method calling to the out side\")\n",
    "\n",
    "obj = A()\n",
    "obj._A__show()"
   ]
  },
  {
   "cell_type": "code",
   "execution_count": 21,
   "id": "8445038a-bec6-44bc-83bc-b3f728b878ef",
   "metadata": {},
   "outputs": [
    {
     "name": "stdout",
     "output_type": "stream",
     "text": [
      "Second Method..\n"
     ]
    }
   ],
   "source": [
    "#polymorphism\n",
    "\n",
    "class A:\n",
    "    def show(self):\n",
    "        print(\"First class..\")\n",
    "\n",
    "class B(A):\n",
    "    def show(self):\n",
    "        print(\"Second Method..\")\n",
    "\n",
    "obj = B()\n",
    "obj.show()"
   ]
  },
  {
   "cell_type": "code",
   "execution_count": 30,
   "id": "a45e38e7-467a-4ea9-a964-2b3c9d0bafb4",
   "metadata": {},
   "outputs": [
    {
     "name": "stdout",
     "output_type": "stream",
     "text": [
      "(4, 6)\n"
     ]
    }
   ],
   "source": [
    "#operator overloading using magic methods\n",
    "\n",
    "class A:\n",
    "    def __init__(self,a,b):\n",
    "        self.a=a\n",
    "        self.b=b\n",
    "        # print(self.a, self.b)\n",
    "\n",
    "    def __add__(left,right):\n",
    "        a = left.a+right.a\n",
    "        b = left.b+right.b\n",
    "        return (f\"{a, b}\")\n",
    "        \n",
    "        # return (f\"{left.a+right.a},{left.b+right.b}\")\n",
    "        \n",
    "\n",
    "obj = A(1,2)\n",
    "obj1 = A(3,4)\n",
    "print(obj+obj1)"
   ]
  },
  {
   "cell_type": "code",
   "execution_count": null,
   "id": "21440451-7b7f-4ed4-bb47-c7e3f847c642",
   "metadata": {},
   "outputs": [],
   "source": [
    "\"\"\"\n",
    "__mul__\n",
    "__truediv__\n",
    "__sub__\n",
    "__gt__\n",
    "__lt__\n",
    "__eq__\n",
    "\"\"\""
   ]
  },
  {
   "cell_type": "code",
   "execution_count": 34,
   "id": "3f31f3ea-0df8-481e-8215-cb9accccd32f",
   "metadata": {},
   "outputs": [
    {
     "name": "stdout",
     "output_type": "stream",
     "text": [
      "Abstraction...\n"
     ]
    }
   ],
   "source": [
    "#abstraction\n",
    "from abc import ABC,abstractmethod\n",
    "class Data(ABC):\n",
    "    @abstractmethod\n",
    "    def show(self):\n",
    "        pass\n",
    "\n",
    "class Data1(Data):\n",
    "    def show(self):\n",
    "        print(\"Abstraction...\")\n",
    "\n",
    "obj = Data1()\n",
    "obj.show()"
   ]
  },
  {
   "cell_type": "code",
   "execution_count": null,
   "id": "e948b8c3-8cda-4071-a59f-54daec7fe37d",
   "metadata": {},
   "outputs": [],
   "source": [
    "#exception handling\n",
    "\n",
    "\"\"\"\n",
    "try:\n",
    "   main logic of application\n",
    "except:\n",
    "   here your error get raise if it found in try\n",
    "   \n",
    "\"\"\""
   ]
  },
  {
   "cell_type": "code",
   "execution_count": 36,
   "id": "fab91b38-ed95-4433-acae-de0814f77ff0",
   "metadata": {},
   "outputs": [
    {
     "name": "stdout",
     "output_type": "stream",
     "text": [
      "Try is working fine...\n",
      "Error in code\n"
     ]
    }
   ],
   "source": [
    "try:\n",
    "    print(\"Try is working fine...\")\n",
    "    a=1/0\n",
    "except:\n",
    "    print(\"Error in code\")"
   ]
  },
  {
   "cell_type": "code",
   "execution_count": 37,
   "id": "18ab0a7a-617a-4812-9f70-8ed68fa3d26b",
   "metadata": {
    "scrolled": true
   },
   "outputs": [
    {
     "name": "stdout",
     "output_type": "stream",
     "text": [
      "division by zero\n"
     ]
    }
   ],
   "source": [
    "try:\n",
    "    a=1/0\n",
    "except Exception as a:\n",
    "    print(a)"
   ]
  },
  {
   "cell_type": "code",
   "execution_count": 39,
   "id": "be2b10f4-4d6c-4820-8892-8f00b1f929ce",
   "metadata": {},
   "outputs": [
    {
     "name": "stdout",
     "output_type": "stream",
     "text": [
      "list index out of range\n",
      "Always run...\n"
     ]
    }
   ],
   "source": [
    "try:\n",
    "    a = [1,2]\n",
    "    print(a[4])\n",
    "    print(\"Working...\")\n",
    "except Exception as a:\n",
    "    print(a)\n",
    "else:\n",
    "    print(\"Try executed  successfully...\")\n",
    "finally:\n",
    "    print(\"Always run...\")"
   ]
  },
  {
   "cell_type": "code",
   "execution_count": null,
   "id": "8aab1d1e-73e1-463f-b9e2-671792eb2a62",
   "metadata": {},
   "outputs": [],
   "source": [
    "\"\"\"\n",
    "Create a project for car search base on price range\n",
    "input\n",
    "minimum\n",
    "maxmum\n",
    "\"\"\""
   ]
  },
  {
   "cell_type": "code",
   "execution_count": null,
   "id": "a22ae7dc-2d53-495c-a0bf-b76dcd491cc2",
   "metadata": {},
   "outputs": [],
   "source": [
    "\"\"\"\n",
    "r- is use to read the file\n",
    "x-is use to create a file\n",
    "w-is use to write a file data\n",
    "a-is use to append data into the file and its also create a file\n",
    "open - is use to open the file for operations\n",
    "close - is use to close the file operations\n",
    "read - use to read the file\n",
    "readline - use to read a single line\n",
    "readlines - use to read the multiple line \n",
    "\n",
    "syntax\n",
    "variable = open(File path, mode)\n",
    "\"\"\""
   ]
  },
  {
   "cell_type": "code",
   "execution_count": 56,
   "id": "4003b566-1e96-45b5-82b9-ecfd96364254",
   "metadata": {},
   "outputs": [
    {
     "ename": "FileExistsError",
     "evalue": "[Errno 17] File exists: 'second.txt'",
     "output_type": "error",
     "traceback": [
      "\u001b[1;31m---------------------------------------------------------------------------\u001b[0m",
      "\u001b[1;31mFileExistsError\u001b[0m                           Traceback (most recent call last)",
      "Cell \u001b[1;32mIn[56], line 1\u001b[0m\n\u001b[1;32m----> 1\u001b[0m f\u001b[38;5;241m=\u001b[39m\u001b[38;5;28;43mopen\u001b[39;49m\u001b[43m(\u001b[49m\u001b[38;5;124;43m\"\u001b[39;49m\u001b[38;5;124;43msecond.txt\u001b[39;49m\u001b[38;5;124;43m\"\u001b[39;49m\u001b[43m,\u001b[49m\u001b[38;5;124;43m\"\u001b[39;49m\u001b[38;5;124;43mx\u001b[39;49m\u001b[38;5;124;43m\"\u001b[39;49m\u001b[43m)\u001b[49m\n",
      "File \u001b[1;32m~\\AppData\\Local\\Programs\\Python\\Python311\\Lib\\site-packages\\IPython\\core\\interactiveshell.py:324\u001b[0m, in \u001b[0;36m_modified_open\u001b[1;34m(file, *args, **kwargs)\u001b[0m\n\u001b[0;32m    317\u001b[0m \u001b[38;5;28;01mif\u001b[39;00m file \u001b[38;5;129;01min\u001b[39;00m {\u001b[38;5;241m0\u001b[39m, \u001b[38;5;241m1\u001b[39m, \u001b[38;5;241m2\u001b[39m}:\n\u001b[0;32m    318\u001b[0m     \u001b[38;5;28;01mraise\u001b[39;00m \u001b[38;5;167;01mValueError\u001b[39;00m(\n\u001b[0;32m    319\u001b[0m         \u001b[38;5;124mf\u001b[39m\u001b[38;5;124m\"\u001b[39m\u001b[38;5;124mIPython won\u001b[39m\u001b[38;5;124m'\u001b[39m\u001b[38;5;124mt let you open fd=\u001b[39m\u001b[38;5;132;01m{\u001b[39;00mfile\u001b[38;5;132;01m}\u001b[39;00m\u001b[38;5;124m by default \u001b[39m\u001b[38;5;124m\"\u001b[39m\n\u001b[0;32m    320\u001b[0m         \u001b[38;5;124m\"\u001b[39m\u001b[38;5;124mas it is likely to crash IPython. If you know what you are doing, \u001b[39m\u001b[38;5;124m\"\u001b[39m\n\u001b[0;32m    321\u001b[0m         \u001b[38;5;124m\"\u001b[39m\u001b[38;5;124myou can use builtins\u001b[39m\u001b[38;5;124m'\u001b[39m\u001b[38;5;124m open.\u001b[39m\u001b[38;5;124m\"\u001b[39m\n\u001b[0;32m    322\u001b[0m     )\n\u001b[1;32m--> 324\u001b[0m \u001b[38;5;28;01mreturn\u001b[39;00m \u001b[43mio_open\u001b[49m\u001b[43m(\u001b[49m\u001b[43mfile\u001b[49m\u001b[43m,\u001b[49m\u001b[43m \u001b[49m\u001b[38;5;241;43m*\u001b[39;49m\u001b[43margs\u001b[49m\u001b[43m,\u001b[49m\u001b[43m \u001b[49m\u001b[38;5;241;43m*\u001b[39;49m\u001b[38;5;241;43m*\u001b[39;49m\u001b[43mkwargs\u001b[49m\u001b[43m)\u001b[49m\n",
      "\u001b[1;31mFileExistsError\u001b[0m: [Errno 17] File exists: 'second.txt'"
     ]
    }
   ],
   "source": [
    "f=open(\"second.txt\",\"x\")\n"
   ]
  },
  {
   "cell_type": "code",
   "execution_count": 47,
   "id": "e834c607-3bcb-4b87-ae1c-d60abbaca4aa",
   "metadata": {},
   "outputs": [
    {
     "data": {
      "text/plain": [
       "53"
      ]
     },
     "execution_count": 47,
     "metadata": {},
     "output_type": "execute_result"
    }
   ],
   "source": [
    "f=open(\"second.txt\",\"w\")\n",
    "f.write(\"This is my first file in which i am writing a data...\")\n",
    "\n"
   ]
  },
  {
   "cell_type": "code",
   "execution_count": 54,
   "id": "67d8ba0e-6491-4a0d-919b-0e681cbf19e9",
   "metadata": {},
   "outputs": [
    {
     "data": {
      "text/plain": [
       "'Second time i writing something in this file.....Something new is here.....'"
      ]
     },
     "execution_count": 54,
     "metadata": {},
     "output_type": "execute_result"
    }
   ],
   "source": [
    "f=open(\"second.txt\",\"r\")\n",
    "f.read()"
   ]
  },
  {
   "cell_type": "code",
   "execution_count": 51,
   "id": "e0cdaceb-005b-4815-883a-ff07ff227434",
   "metadata": {},
   "outputs": [
    {
     "data": {
      "text/plain": [
       "49"
      ]
     },
     "execution_count": 51,
     "metadata": {},
     "output_type": "execute_result"
    }
   ],
   "source": [
    "f=open(\"second.txt\",\"w\")\n",
    "f.write(\"Second time i writing something in this file.....\")\n"
   ]
  },
  {
   "cell_type": "code",
   "execution_count": 53,
   "id": "e595be2e-b047-49db-b003-f5e0579fa28f",
   "metadata": {},
   "outputs": [
    {
     "data": {
      "text/plain": [
       "26"
      ]
     },
     "execution_count": 53,
     "metadata": {},
     "output_type": "execute_result"
    }
   ],
   "source": [
    "f=open(\"second.txt\",\"a\")\n",
    "f.write(\"Something new is here.....\")\n"
   ]
  },
  {
   "cell_type": "code",
   "execution_count": 59,
   "id": "d51eaad1-9fc1-47f5-8c9e-4fb069d0287e",
   "metadata": {},
   "outputs": [
    {
     "data": {
      "text/plain": [
       "82"
      ]
     },
     "execution_count": 59,
     "metadata": {},
     "output_type": "execute_result"
    }
   ],
   "source": [
    "f=open(\"third.txt\",\"a\")\n",
    "f.write(\"askugaasd saiuadas xiua adAIDHIH asiudadvxj asx xiauvajxa sxiux XUYagxu sdhccskjdc\")\n"
   ]
  },
  {
   "cell_type": "code",
   "execution_count": null,
   "id": "3d55f8fc-7be8-49e1-8b49-7dd36be8963b",
   "metadata": {},
   "outputs": [],
   "source": []
  },
  {
   "cell_type": "code",
   "execution_count": null,
   "id": "c1afb853-f9de-4b1b-9d00-c4ca665c4143",
   "metadata": {},
   "outputs": [],
   "source": [
    "\"\"\"\n",
    "name\n",
    "in which year he/she studied\n",
    "roll number\n",
    "age\n",
    "\n",
    "\n",
    "\"\"\""
   ]
  },
  {
   "cell_type": "code",
   "execution_count": 2,
   "id": "20036bb3-067a-4ab2-a4a1-14c4d63689c5",
   "metadata": {},
   "outputs": [
    {
     "name": "stdin",
     "output_type": "stream",
     "text": [
      "Enter your full name :  XYZ\n",
      "In whcih claa are you studying ?  BE\n",
      "Enter your roll number :  34\n",
      "please enter your age :  45\n"
     ]
    },
    {
     "data": {
      "text/plain": [
       "56"
      ]
     },
     "execution_count": 2,
     "metadata": {},
     "output_type": "execute_result"
    }
   ],
   "source": [
    "f=open(\"StudentData.txt\",\"a\")\n",
    "name=input(\"Enter your full name : \")\n",
    "Class=input(\"In whcih claa are you studying ? \")\n",
    "roll=int(input(\"Enter your roll number : \"))\n",
    "age=int(input(\"please enter your age : \"))\n",
    "\n",
    "f.write(f\" \\n Name : {name} \\n Class : {Class} \\n roll_number : {roll} \\n age : {age}\")\n",
    "\n"
   ]
  },
  {
   "cell_type": "code",
   "execution_count": 11,
   "id": "3223b595-17d3-4cc0-8f18-b41d43f071b6",
   "metadata": {},
   "outputs": [
    {
     "ename": "IndentationError",
     "evalue": "unindent does not match any outer indentation level (<tokenize>, line 11)",
     "output_type": "error",
     "traceback": [
      "\u001b[1;36m  File \u001b[1;32m<tokenize>:11\u001b[1;36m\u001b[0m\n\u001b[1;33m    print(\" \",end=\" \");\u001b[0m\n\u001b[1;37m    ^\u001b[0m\n\u001b[1;31mIndentationError\u001b[0m\u001b[1;31m:\u001b[0m unindent does not match any outer indentation level\n"
     ]
    }
   ],
   "source": [
    "    a\n",
    "  b b b\n",
    "c c c c c\n",
    "i=0\n",
    "s=3\n",
    "c=1\n",
    "asc=97\n",
    "while i<4:\n",
    "   j=0\n",
    "   while j<s:\n",
    "      print(\" \",end=\" \");\n",
    "      j+=1\n",
    "   k=0\n",
    "   while k<c:\n",
    "      print(chr(asc),end=\" \")\n",
    "      k+=1\n",
    "   asc+=1\n",
    "   c+=2\n",
    "   s-=1\n",
    "   i+=1\n",
    "   print()"
   ]
  },
  {
   "cell_type": "code",
   "execution_count": 13,
   "id": "53dbe609-a397-4552-b78c-ac840b7305f6",
   "metadata": {},
   "outputs": [
    {
     "name": "stdin",
     "output_type": "stream",
     "text": [
      "Enter your name: Harsh\n"
     ]
    },
    {
     "name": "stdout",
     "output_type": "stream",
     "text": [
      "H\n",
      "Ha\n",
      "Har\n",
      "Hars\n",
      "Harsh\n"
     ]
    }
   ],
   "source": [
    "def pattern(name):\n",
    "    for i in range(len(name)):\n",
    "        print(name[:i+1])\n",
    "\n",
    "name=input(\"Enter your name:\") \n",
    "pattern(name)"
   ]
  },
  {
   "cell_type": "code",
   "execution_count": 14,
   "id": "81e08f76-b207-41cc-a999-0221b9fdebd4",
   "metadata": {},
   "outputs": [
    {
     "name": "stdin",
     "output_type": "stream",
     "text": [
      "Enter first side: 35\n",
      "Enter second side: 25\n",
      "Enter third side: 45\n"
     ]
    },
    {
     "name": "stdout",
     "output_type": "stream",
     "text": [
      "find the area of triangle 435.31\n"
     ]
    }
   ],
   "source": [
    "a = float(input('Enter first side:'))\n",
    "b = float(input('Enter second side:'))\n",
    "c = float(input('Enter third side:'))\n",
    "\n",
    "s = (a+b+c)/2\n",
    "\n",
    "area=(s*(s-a)*(s-b)*(s-c))**0.5\n",
    "print('find the area of triangle %0.2f'%area)"
   ]
  },
  {
   "cell_type": "code",
   "execution_count": 16,
   "id": "ec164b9a-f8f3-49ca-bd36-3043a39e919c",
   "metadata": {},
   "outputs": [
    {
     "name": "stdout",
     "output_type": "stream",
     "text": [
      "1 2 3 4 5 6 7 8 9 10 \n",
      "2 4 6 8 10 12 14 16 18 20 \n",
      "3 6 9 12 15 18 21 24 27 30 \n",
      "4 8 12 16 20 24 28 32 36 40 \n",
      "5 10 15 20 25 30 35 40 45 50 \n",
      "6 12 18 24 30 36 42 48 54 60 \n",
      "7 14 21 28 35 42 49 56 63 70 \n",
      "8 16 24 32 40 48 56 64 72 80 \n",
      "9 18 27 36 45 54 63 72 81 90 \n",
      "10 20 30 40 50 60 70 80 90 100 \n"
     ]
    }
   ],
   "source": [
    "def outer(n):\n",
    "    def inner(n1):\n",
    "        print(n * n1,end= \" \")\n",
    "        n1 += 1\n",
    "        if n1 <= 10:\n",
    "            return inner(n1)\n",
    "    inner(1)    \n",
    "    print()\n",
    "    n += 1\n",
    "    if n <= 10:\n",
    "      return outer(n) \n",
    "outer(1)            "
   ]
  },
  {
   "cell_type": "code",
   "execution_count": 17,
   "id": "bfaab6c0-e22e-481c-ab2d-27e0700cfcb3",
   "metadata": {},
   "outputs": [
    {
     "name": "stdout",
     "output_type": "stream",
     "text": [
      "hello world\n"
     ]
    }
   ],
   "source": [
    "print(\"hello world\")"
   ]
  },
  {
   "cell_type": "code",
   "execution_count": null,
   "id": "9ef80e9f-2b6c-4185-bbe5-f0701955f8d1",
   "metadata": {},
   "outputs": [
    {
     "name": "stdin",
     "output_type": "stream",
     "text": [
      "Enter Your Password GCUX7V:t7G}t\n"
     ]
    },
    {
     "name": "stdout",
     "output_type": "stream",
     "text": [
      "Stong\n"
     ]
    }
   ],
   "source": [
    "def check(password):\n",
    "    upper = lower = digit = False\n",
    "\n",
    "    for char in password:\n",
    "        if char.isupper():\n",
    "            upper = True\n",
    "        elif char.islower():\n",
    "            lower = True\n",
    "        elif char.isdigit():\n",
    "            digit = True\n",
    "\n",
    "    length = len(password) >= 8\n",
    "    score = sum([length , upper , lower , digit ])\n",
    "\n",
    "    if score == 4:\n",
    "        return \"Stong\"\n",
    "    elif score == 3:\n",
    "        return \"mediun\"\n",
    "    else:\n",
    "        return \"weak\"\n",
    "\n",
    "while True:\n",
    "    password = input(\"Enter Your Password\")\n",
    "    if password.lower() == \"exit\" :\n",
    "        break\n",
    "\n",
    "    print(f\"{check(password)}\")"
   ]
  },
  {
   "cell_type": "code",
   "execution_count": null,
   "id": "b7e424a6-8606-4902-b719-85b17ec63095",
   "metadata": {},
   "outputs": [],
   "source": []
  }
 ],
 "metadata": {
  "kernelspec": {
   "display_name": "Python 3 (ipykernel)",
   "language": "python",
   "name": "python3"
  },
  "language_info": {
   "codemirror_mode": {
    "name": "ipython",
    "version": 3
   },
   "file_extension": ".py",
   "mimetype": "text/x-python",
   "name": "python",
   "nbconvert_exporter": "python",
   "pygments_lexer": "ipython3",
   "version": "3.11.0"
  }
 },
 "nbformat": 4,
 "nbformat_minor": 5
}
