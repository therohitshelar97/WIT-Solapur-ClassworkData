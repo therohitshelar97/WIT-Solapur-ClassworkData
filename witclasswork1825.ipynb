{
 "cells": [
  {
   "cell_type": "code",
   "execution_count": 1,
   "id": "c5cdeb7c-6a9f-4f34-8279-e1407e3c0cb7",
   "metadata": {},
   "outputs": [],
   "source": [
    "# import datetime"
   ]
  },
  {
   "cell_type": "code",
   "execution_count": 41,
   "id": "adfe8845-912b-478d-ae3f-a3a9032c8854",
   "metadata": {},
   "outputs": [
    {
     "name": "stdout",
     "output_type": "stream",
     "text": [
      "2025-02-18 10:30:59.407958\n",
      "2025\n",
      "2\n",
      "18\n",
      "Feb/2025, 18\n",
      "February/2025, 18\n",
      "Feb/25, 18\n",
      "February/2025, 18,  10:30:59\n",
      "February/2025, 18,  10:30:59\n",
      "28 days, 0:00:00\n",
      "\n"
     ]
    }
   ],
   "source": [
    "from datetime import datetime,date,time,timedelta\n",
    "now = datetime.now()\n",
    "print(now)\n",
    "print(now.year)\n",
    "print(now.month)\n",
    "print(now.day)\n",
    "\n",
    "d=date.today()\n",
    "print(d.strftime('%b/%Y, %d'))\n",
    "print(d.strftime('%B/%Y, %d'))\n",
    "print(d.strftime('%b/%y, %d'))\n",
    "\n",
    "now = datetime.now()\n",
    "print(now.strftime('%B/%Y, %d,  %H:%M:%S'))\n",
    "print(now.strftime('%B/%Y, %d,  %I:%M:%S'))\n",
    "\n",
    "a = timedelta(days=10)\n",
    "# b = timedelta\n",
    "b = timedelta(now.day)\n",
    "print(a+b)\n",
    "print()\n",
    "\n"
   ]
  },
  {
   "cell_type": "code",
   "execution_count": null,
   "id": "2826de56-13c4-4f6c-8070-6a5fb78f981b",
   "metadata": {},
   "outputs": [],
   "source": []
  }
 ],
 "metadata": {
  "kernelspec": {
   "display_name": "Python 3 (ipykernel)",
   "language": "python",
   "name": "python3"
  },
  "language_info": {
   "codemirror_mode": {
    "name": "ipython",
    "version": 3
   },
   "file_extension": ".py",
   "mimetype": "text/x-python",
   "name": "python",
   "nbconvert_exporter": "python",
   "pygments_lexer": "ipython3",
   "version": "3.11.0"
  }
 },
 "nbformat": 4,
 "nbformat_minor": 5
}
